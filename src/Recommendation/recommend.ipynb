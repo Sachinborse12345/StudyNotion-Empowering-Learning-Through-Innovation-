{
 "cells": [
  {
   "cell_type": "code",
   "execution_count": 1,
   "metadata": {},
   "outputs": [
    {
     "name": "stdout",
     "output_type": "stream",
     "text": [
      "Dependencies Imported\n"
     ]
    }
   ],
   "source": [
    "import os\n",
    "import numpy as np\n",
    "import pandas as pd\n",
    "# import matplotlib.pyplot as plt\n",
    "# import seaborn as sns\n",
    "print('Dependencies Imported')"
   ]
  },
  {
   "cell_type": "code",
   "execution_count": 2,
   "metadata": {},
   "outputs": [
    {
     "data": {
      "text/html": [
       "<div>\n",
       "<style scoped>\n",
       "    .dataframe tbody tr th:only-of-type {\n",
       "        vertical-align: middle;\n",
       "    }\n",
       "\n",
       "    .dataframe tbody tr th {\n",
       "        vertical-align: top;\n",
       "    }\n",
       "\n",
       "    .dataframe thead th {\n",
       "        text-align: right;\n",
       "    }\n",
       "</style>\n",
       "<table border=\"1\" class=\"dataframe\">\n",
       "  <thead>\n",
       "    <tr style=\"text-align: right;\">\n",
       "      <th></th>\n",
       "      <th>Course Name</th>\n",
       "      <th>Course Description</th>\n",
       "      <th>Price</th>\n",
       "      <th>Category</th>\n",
       "      <th>Skills that will be taught</th>\n",
       "    </tr>\n",
       "  </thead>\n",
       "  <tbody>\n",
       "    <tr>\n",
       "      <th>0</th>\n",
       "      <td>ML</td>\n",
       "      <td>Learn the fundamentals of Machine Learning inc...</td>\n",
       "      <td>1</td>\n",
       "      <td>Artificial Intelligence</td>\n",
       "      <td>Maths Statistics Calculus Python</td>\n",
       "    </tr>\n",
       "    <tr>\n",
       "      <th>1</th>\n",
       "      <td>PHP</td>\n",
       "      <td>Learn PHP from basics to advanced covering syn...</td>\n",
       "      <td>1</td>\n",
       "      <td>Web Development</td>\n",
       "      <td>HTML CSS</td>\n",
       "    </tr>\n",
       "    <tr>\n",
       "      <th>2</th>\n",
       "      <td>Data Analyst</td>\n",
       "      <td>Master the fundamentals of Data Analysis with ...</td>\n",
       "      <td>1000</td>\n",
       "      <td>Data Science</td>\n",
       "      <td>Python SQL Excel Power BI</td>\n",
       "    </tr>\n",
       "    <tr>\n",
       "      <th>3</th>\n",
       "      <td>Deep Learning</td>\n",
       "      <td>Explore neural networks CNNs RNNs and transfor...</td>\n",
       "      <td>50</td>\n",
       "      <td>Artificial Intelligence</td>\n",
       "      <td>Python PyTorch TensorFlow Maths Calculus</td>\n",
       "    </tr>\n",
       "    <tr>\n",
       "      <th>4</th>\n",
       "      <td>JavaScript</td>\n",
       "      <td>Master JavaScript with ES6 concepts asynchrono...</td>\n",
       "      <td>1</td>\n",
       "      <td>Web Development</td>\n",
       "      <td>JavaScript DOM API HTML CSS</td>\n",
       "    </tr>\n",
       "  </tbody>\n",
       "</table>\n",
       "</div>"
      ],
      "text/plain": [
       "     Course Name                                 Course Description  Price  \\\n",
       "0             ML  Learn the fundamentals of Machine Learning inc...      1   \n",
       "1            PHP  Learn PHP from basics to advanced covering syn...      1   \n",
       "2   Data Analyst  Master the fundamentals of Data Analysis with ...   1000   \n",
       "3  Deep Learning  Explore neural networks CNNs RNNs and transfor...     50   \n",
       "4     JavaScript  Master JavaScript with ES6 concepts asynchrono...      1   \n",
       "\n",
       "                  Category                Skills that will be taught  \n",
       "0  Artificial Intelligence          Maths Statistics Calculus Python  \n",
       "1          Web Development                                  HTML CSS  \n",
       "2             Data Science                 Python SQL Excel Power BI  \n",
       "3  Artificial Intelligence  Python PyTorch TensorFlow Maths Calculus  \n",
       "4          Web Development              JavaScript DOM API HTML CSS   "
      ]
     },
     "execution_count": 2,
     "metadata": {},
     "output_type": "execute_result"
    }
   ],
   "source": [
    "data = pd.read_csv(\"studynotionDB.csv\")\n",
    "data.head(5)"
   ]
  },
  {
   "cell_type": "code",
   "execution_count": 3,
   "metadata": {},
   "outputs": [
    {
     "data": {
      "text/plain": [
       "Course Name                   0\n",
       "Course Description            0\n",
       "Price                         0\n",
       "Category                      0\n",
       "Skills that will be taught    0\n",
       "dtype: int64"
      ]
     },
     "execution_count": 3,
     "metadata": {},
     "output_type": "execute_result"
    }
   ],
   "source": [
    "data.isnull().sum() # no value is missing"
   ]
  },
  {
   "cell_type": "code",
   "execution_count": 4,
   "metadata": {},
   "outputs": [
    {
     "data": {
      "text/plain": [
       "Category\n",
       "Programming                16\n",
       "Artificial Intelligence    11\n",
       "Web Development            11\n",
       "Data Science               11\n",
       "Mobile Development          7\n",
       "Name: count, dtype: int64"
      ]
     },
     "execution_count": 4,
     "metadata": {},
     "output_type": "execute_result"
    }
   ],
   "source": [
    "data['Category'].value_counts()"
   ]
  },
  {
   "cell_type": "code",
   "execution_count": 5,
   "metadata": {},
   "outputs": [],
   "source": [
    "data = data[['Course Name','Course Description','Skills that will be taught']]"
   ]
  },
  {
   "cell_type": "code",
   "execution_count": 6,
   "metadata": {},
   "outputs": [
    {
     "data": {
      "text/html": [
       "<div>\n",
       "<style scoped>\n",
       "    .dataframe tbody tr th:only-of-type {\n",
       "        vertical-align: middle;\n",
       "    }\n",
       "\n",
       "    .dataframe tbody tr th {\n",
       "        vertical-align: top;\n",
       "    }\n",
       "\n",
       "    .dataframe thead th {\n",
       "        text-align: right;\n",
       "    }\n",
       "</style>\n",
       "<table border=\"1\" class=\"dataframe\">\n",
       "  <thead>\n",
       "    <tr style=\"text-align: right;\">\n",
       "      <th></th>\n",
       "      <th>Course Name</th>\n",
       "      <th>Course Description</th>\n",
       "      <th>Skills that will be taught</th>\n",
       "    </tr>\n",
       "  </thead>\n",
       "  <tbody>\n",
       "    <tr>\n",
       "      <th>0</th>\n",
       "      <td>ML</td>\n",
       "      <td>Learn the fundamentals of Machine Learning inc...</td>\n",
       "      <td>Maths Statistics Calculus Python</td>\n",
       "    </tr>\n",
       "    <tr>\n",
       "      <th>1</th>\n",
       "      <td>PHP</td>\n",
       "      <td>Learn PHP from basics to advanced covering syn...</td>\n",
       "      <td>HTML CSS</td>\n",
       "    </tr>\n",
       "    <tr>\n",
       "      <th>2</th>\n",
       "      <td>Data Analyst</td>\n",
       "      <td>Master the fundamentals of Data Analysis with ...</td>\n",
       "      <td>Python SQL Excel Power BI</td>\n",
       "    </tr>\n",
       "    <tr>\n",
       "      <th>3</th>\n",
       "      <td>Deep Learning</td>\n",
       "      <td>Explore neural networks CNNs RNNs and transfor...</td>\n",
       "      <td>Python PyTorch TensorFlow Maths Calculus</td>\n",
       "    </tr>\n",
       "    <tr>\n",
       "      <th>4</th>\n",
       "      <td>JavaScript</td>\n",
       "      <td>Master JavaScript with ES6 concepts asynchrono...</td>\n",
       "      <td>JavaScript DOM API HTML CSS</td>\n",
       "    </tr>\n",
       "  </tbody>\n",
       "</table>\n",
       "</div>"
      ],
      "text/plain": [
       "     Course Name                                 Course Description  \\\n",
       "0             ML  Learn the fundamentals of Machine Learning inc...   \n",
       "1            PHP  Learn PHP from basics to advanced covering syn...   \n",
       "2   Data Analyst  Master the fundamentals of Data Analysis with ...   \n",
       "3  Deep Learning  Explore neural networks CNNs RNNs and transfor...   \n",
       "4     JavaScript  Master JavaScript with ES6 concepts asynchrono...   \n",
       "\n",
       "                 Skills that will be taught  \n",
       "0          Maths Statistics Calculus Python  \n",
       "1                                  HTML CSS  \n",
       "2                 Python SQL Excel Power BI  \n",
       "3  Python PyTorch TensorFlow Maths Calculus  \n",
       "4              JavaScript DOM API HTML CSS   "
      ]
     },
     "execution_count": 6,
     "metadata": {},
     "output_type": "execute_result"
    }
   ],
   "source": [
    "data.head()"
   ]
  },
  {
   "cell_type": "code",
   "execution_count": 7,
   "metadata": {},
   "outputs": [],
   "source": [
    "data['tags'] = data['Course Name'] + ' ' + data['Course Description'] + ' ' + data['Skills that will be taught']"
   ]
  },
  {
   "cell_type": "code",
   "execution_count": 8,
   "metadata": {},
   "outputs": [
    {
     "data": {
      "text/html": [
       "<div>\n",
       "<style scoped>\n",
       "    .dataframe tbody tr th:only-of-type {\n",
       "        vertical-align: middle;\n",
       "    }\n",
       "\n",
       "    .dataframe tbody tr th {\n",
       "        vertical-align: top;\n",
       "    }\n",
       "\n",
       "    .dataframe thead th {\n",
       "        text-align: right;\n",
       "    }\n",
       "</style>\n",
       "<table border=\"1\" class=\"dataframe\">\n",
       "  <thead>\n",
       "    <tr style=\"text-align: right;\">\n",
       "      <th></th>\n",
       "      <th>Course Name</th>\n",
       "      <th>Course Description</th>\n",
       "      <th>Skills that will be taught</th>\n",
       "      <th>tags</th>\n",
       "    </tr>\n",
       "  </thead>\n",
       "  <tbody>\n",
       "    <tr>\n",
       "      <th>0</th>\n",
       "      <td>ML</td>\n",
       "      <td>Learn the fundamentals of Machine Learning inc...</td>\n",
       "      <td>Maths Statistics Calculus Python</td>\n",
       "      <td>ML Learn the fundamentals of Machine Learning ...</td>\n",
       "    </tr>\n",
       "    <tr>\n",
       "      <th>1</th>\n",
       "      <td>PHP</td>\n",
       "      <td>Learn PHP from basics to advanced covering syn...</td>\n",
       "      <td>HTML CSS</td>\n",
       "      <td>PHP Learn PHP from basics to advanced covering...</td>\n",
       "    </tr>\n",
       "    <tr>\n",
       "      <th>2</th>\n",
       "      <td>Data Analyst</td>\n",
       "      <td>Master the fundamentals of Data Analysis with ...</td>\n",
       "      <td>Python SQL Excel Power BI</td>\n",
       "      <td>Data Analyst Master the fundamentals of Data A...</td>\n",
       "    </tr>\n",
       "    <tr>\n",
       "      <th>3</th>\n",
       "      <td>Deep Learning</td>\n",
       "      <td>Explore neural networks CNNs RNNs and transfor...</td>\n",
       "      <td>Python PyTorch TensorFlow Maths Calculus</td>\n",
       "      <td>Deep Learning Explore neural networks CNNs RNN...</td>\n",
       "    </tr>\n",
       "    <tr>\n",
       "      <th>4</th>\n",
       "      <td>JavaScript</td>\n",
       "      <td>Master JavaScript with ES6 concepts asynchrono...</td>\n",
       "      <td>JavaScript DOM API HTML CSS</td>\n",
       "      <td>JavaScript Master JavaScript with ES6 concepts...</td>\n",
       "    </tr>\n",
       "  </tbody>\n",
       "</table>\n",
       "</div>"
      ],
      "text/plain": [
       "     Course Name                                 Course Description  \\\n",
       "0             ML  Learn the fundamentals of Machine Learning inc...   \n",
       "1            PHP  Learn PHP from basics to advanced covering syn...   \n",
       "2   Data Analyst  Master the fundamentals of Data Analysis with ...   \n",
       "3  Deep Learning  Explore neural networks CNNs RNNs and transfor...   \n",
       "4     JavaScript  Master JavaScript with ES6 concepts asynchrono...   \n",
       "\n",
       "                 Skills that will be taught  \\\n",
       "0          Maths Statistics Calculus Python   \n",
       "1                                  HTML CSS   \n",
       "2                 Python SQL Excel Power BI   \n",
       "3  Python PyTorch TensorFlow Maths Calculus   \n",
       "4              JavaScript DOM API HTML CSS    \n",
       "\n",
       "                                                tags  \n",
       "0  ML Learn the fundamentals of Machine Learning ...  \n",
       "1  PHP Learn PHP from basics to advanced covering...  \n",
       "2  Data Analyst Master the fundamentals of Data A...  \n",
       "3  Deep Learning Explore neural networks CNNs RNN...  \n",
       "4  JavaScript Master JavaScript with ES6 concepts...  "
      ]
     },
     "execution_count": 8,
     "metadata": {},
     "output_type": "execute_result"
    }
   ],
   "source": [
    "data.head()"
   ]
  },
  {
   "cell_type": "code",
   "execution_count": 9,
   "metadata": {},
   "outputs": [
    {
     "data": {
      "text/plain": [
       "'PHP Learn PHP from basics to advanced covering syntax functions databases and web development with hands-on projects HTML CSS'"
      ]
     },
     "execution_count": 9,
     "metadata": {},
     "output_type": "execute_result"
    }
   ],
   "source": [
    "data['tags'].loc[1]"
   ]
  },
  {
   "cell_type": "code",
   "execution_count": 10,
   "metadata": {},
   "outputs": [],
   "source": [
    "data['tags'] = data['tags'].apply(lambda x:x.lower())\n"
   ]
  },
  {
   "cell_type": "code",
   "execution_count": 11,
   "metadata": {},
   "outputs": [
    {
     "data": {
      "text/html": [
       "<div>\n",
       "<style scoped>\n",
       "    .dataframe tbody tr th:only-of-type {\n",
       "        vertical-align: middle;\n",
       "    }\n",
       "\n",
       "    .dataframe tbody tr th {\n",
       "        vertical-align: top;\n",
       "    }\n",
       "\n",
       "    .dataframe thead th {\n",
       "        text-align: right;\n",
       "    }\n",
       "</style>\n",
       "<table border=\"1\" class=\"dataframe\">\n",
       "  <thead>\n",
       "    <tr style=\"text-align: right;\">\n",
       "      <th></th>\n",
       "      <th>Course Name</th>\n",
       "      <th>Course Description</th>\n",
       "      <th>Skills that will be taught</th>\n",
       "      <th>tags</th>\n",
       "    </tr>\n",
       "  </thead>\n",
       "  <tbody>\n",
       "    <tr>\n",
       "      <th>0</th>\n",
       "      <td>ML</td>\n",
       "      <td>Learn the fundamentals of Machine Learning inc...</td>\n",
       "      <td>Maths Statistics Calculus Python</td>\n",
       "      <td>ml learn the fundamentals of machine learning ...</td>\n",
       "    </tr>\n",
       "    <tr>\n",
       "      <th>1</th>\n",
       "      <td>PHP</td>\n",
       "      <td>Learn PHP from basics to advanced covering syn...</td>\n",
       "      <td>HTML CSS</td>\n",
       "      <td>php learn php from basics to advanced covering...</td>\n",
       "    </tr>\n",
       "    <tr>\n",
       "      <th>2</th>\n",
       "      <td>Data Analyst</td>\n",
       "      <td>Master the fundamentals of Data Analysis with ...</td>\n",
       "      <td>Python SQL Excel Power BI</td>\n",
       "      <td>data analyst master the fundamentals of data a...</td>\n",
       "    </tr>\n",
       "    <tr>\n",
       "      <th>3</th>\n",
       "      <td>Deep Learning</td>\n",
       "      <td>Explore neural networks CNNs RNNs and transfor...</td>\n",
       "      <td>Python PyTorch TensorFlow Maths Calculus</td>\n",
       "      <td>deep learning explore neural networks cnns rnn...</td>\n",
       "    </tr>\n",
       "    <tr>\n",
       "      <th>4</th>\n",
       "      <td>JavaScript</td>\n",
       "      <td>Master JavaScript with ES6 concepts asynchrono...</td>\n",
       "      <td>JavaScript DOM API HTML CSS</td>\n",
       "      <td>javascript master javascript with es6 concepts...</td>\n",
       "    </tr>\n",
       "  </tbody>\n",
       "</table>\n",
       "</div>"
      ],
      "text/plain": [
       "     Course Name                                 Course Description  \\\n",
       "0             ML  Learn the fundamentals of Machine Learning inc...   \n",
       "1            PHP  Learn PHP from basics to advanced covering syn...   \n",
       "2   Data Analyst  Master the fundamentals of Data Analysis with ...   \n",
       "3  Deep Learning  Explore neural networks CNNs RNNs and transfor...   \n",
       "4     JavaScript  Master JavaScript with ES6 concepts asynchrono...   \n",
       "\n",
       "                 Skills that will be taught  \\\n",
       "0          Maths Statistics Calculus Python   \n",
       "1                                  HTML CSS   \n",
       "2                 Python SQL Excel Power BI   \n",
       "3  Python PyTorch TensorFlow Maths Calculus   \n",
       "4              JavaScript DOM API HTML CSS    \n",
       "\n",
       "                                                tags  \n",
       "0  ml learn the fundamentals of machine learning ...  \n",
       "1  php learn php from basics to advanced covering...  \n",
       "2  data analyst master the fundamentals of data a...  \n",
       "3  deep learning explore neural networks cnns rnn...  \n",
       "4  javascript master javascript with es6 concepts...  "
      ]
     },
     "execution_count": 11,
     "metadata": {},
     "output_type": "execute_result"
    }
   ],
   "source": [
    "data.head()"
   ]
  },
  {
   "cell_type": "code",
   "execution_count": 12,
   "metadata": {},
   "outputs": [],
   "source": [
    "new_data = data[['Course Name', 'tags']]"
   ]
  },
  {
   "cell_type": "code",
   "execution_count": 13,
   "metadata": {},
   "outputs": [
    {
     "data": {
      "text/html": [
       "<div>\n",
       "<style scoped>\n",
       "    .dataframe tbody tr th:only-of-type {\n",
       "        vertical-align: middle;\n",
       "    }\n",
       "\n",
       "    .dataframe tbody tr th {\n",
       "        vertical-align: top;\n",
       "    }\n",
       "\n",
       "    .dataframe thead th {\n",
       "        text-align: right;\n",
       "    }\n",
       "</style>\n",
       "<table border=\"1\" class=\"dataframe\">\n",
       "  <thead>\n",
       "    <tr style=\"text-align: right;\">\n",
       "      <th></th>\n",
       "      <th>Course Name</th>\n",
       "      <th>tags</th>\n",
       "    </tr>\n",
       "  </thead>\n",
       "  <tbody>\n",
       "    <tr>\n",
       "      <th>0</th>\n",
       "      <td>ML</td>\n",
       "      <td>ml learn the fundamentals of machine learning ...</td>\n",
       "    </tr>\n",
       "    <tr>\n",
       "      <th>1</th>\n",
       "      <td>PHP</td>\n",
       "      <td>php learn php from basics to advanced covering...</td>\n",
       "    </tr>\n",
       "    <tr>\n",
       "      <th>2</th>\n",
       "      <td>Data Analyst</td>\n",
       "      <td>data analyst master the fundamentals of data a...</td>\n",
       "    </tr>\n",
       "    <tr>\n",
       "      <th>3</th>\n",
       "      <td>Deep Learning</td>\n",
       "      <td>deep learning explore neural networks cnns rnn...</td>\n",
       "    </tr>\n",
       "    <tr>\n",
       "      <th>4</th>\n",
       "      <td>JavaScript</td>\n",
       "      <td>javascript master javascript with es6 concepts...</td>\n",
       "    </tr>\n",
       "  </tbody>\n",
       "</table>\n",
       "</div>"
      ],
      "text/plain": [
       "     Course Name                                               tags\n",
       "0             ML  ml learn the fundamentals of machine learning ...\n",
       "1            PHP  php learn php from basics to advanced covering...\n",
       "2   Data Analyst  data analyst master the fundamentals of data a...\n",
       "3  Deep Learning  deep learning explore neural networks cnns rnn...\n",
       "4     JavaScript  javascript master javascript with es6 concepts..."
      ]
     },
     "execution_count": 13,
     "metadata": {},
     "output_type": "execute_result"
    }
   ],
   "source": [
    "new_data.head()"
   ]
  },
  {
   "cell_type": "code",
   "execution_count": 14,
   "metadata": {},
   "outputs": [
    {
     "name": "stderr",
     "output_type": "stream",
     "text": [
      "C:\\Users\\DELL\\AppData\\Local\\Temp\\ipykernel_7744\\752985531.py:1: SettingWithCopyWarning: \n",
      "A value is trying to be set on a copy of a slice from a DataFrame\n",
      "\n",
      "See the caveats in the documentation: https://pandas.pydata.org/pandas-docs/stable/user_guide/indexing.html#returning-a-view-versus-a-copy\n",
      "  new_data.rename(columns = {'Course Name':'course_name'}, inplace = True)\n"
     ]
    }
   ],
   "source": [
    "new_data.rename(columns = {'Course Name':'course_name'}, inplace = True)"
   ]
  },
  {
   "cell_type": "code",
   "execution_count": 15,
   "metadata": {},
   "outputs": [],
   "source": [
    "# Text Vectorization"
   ]
  },
  {
   "cell_type": "code",
   "execution_count": 16,
   "metadata": {},
   "outputs": [],
   "source": [
    "from sklearn.feature_extraction.text import CountVectorizer"
   ]
  },
  {
   "cell_type": "code",
   "execution_count": 17,
   "metadata": {},
   "outputs": [],
   "source": [
    "cv = CountVectorizer(max_features=1000,stop_words='english')"
   ]
  },
  {
   "cell_type": "code",
   "execution_count": 18,
   "metadata": {},
   "outputs": [],
   "source": [
    "vectors = cv.fit_transform(new_data['tags']).toarray()"
   ]
  },
  {
   "cell_type": "code",
   "execution_count": 19,
   "metadata": {},
   "outputs": [],
   "source": [
    "# Stemming Process"
   ]
  },
  {
   "cell_type": "code",
   "execution_count": 20,
   "metadata": {},
   "outputs": [],
   "source": [
    "import nltk # for stemming process"
   ]
  },
  {
   "cell_type": "code",
   "execution_count": 21,
   "metadata": {},
   "outputs": [],
   "source": [
    "from nltk.stem.porter import PorterStemmer\n",
    "ps = PorterStemmer()"
   ]
  },
  {
   "cell_type": "code",
   "execution_count": 22,
   "metadata": {},
   "outputs": [],
   "source": [
    "#defining the stemming function\n",
    "def stem(text):\n",
    "    y=[]\n",
    "    \n",
    "    for i in text.split():\n",
    "        y.append(ps.stem(i))\n",
    "    \n",
    "    return \" \".join(y)"
   ]
  },
  {
   "cell_type": "code",
   "execution_count": 23,
   "metadata": {},
   "outputs": [
    {
     "name": "stderr",
     "output_type": "stream",
     "text": [
      "C:\\Users\\DELL\\AppData\\Local\\Temp\\ipykernel_7744\\713448467.py:1: SettingWithCopyWarning: \n",
      "A value is trying to be set on a copy of a slice from a DataFrame.\n",
      "Try using .loc[row_indexer,col_indexer] = value instead\n",
      "\n",
      "See the caveats in the documentation: https://pandas.pydata.org/pandas-docs/stable/user_guide/indexing.html#returning-a-view-versus-a-copy\n",
      "  new_data['tags'] = new_data['tags'].apply(stem) # applying stemming on the tags column\n"
     ]
    }
   ],
   "source": [
    "new_data['tags'] = new_data['tags'].apply(stem) # applying stemming on the tags column"
   ]
  },
  {
   "cell_type": "code",
   "execution_count": 24,
   "metadata": {},
   "outputs": [],
   "source": [
    "# Similarity Measure"
   ]
  },
  {
   "cell_type": "code",
   "execution_count": 25,
   "metadata": {},
   "outputs": [],
   "source": [
    "from sklearn.metrics.pairwise import cosine_similarity\n",
    "similarity = cosine_similarity(vectors)"
   ]
  },
  {
   "cell_type": "code",
   "execution_count": 26,
   "metadata": {},
   "outputs": [],
   "source": [
    "# Recommendation Function"
   ]
  },
  {
   "cell_type": "code",
   "execution_count": 27,
   "metadata": {},
   "outputs": [
    {
     "data": {
      "text/html": [
       "<div>\n",
       "<style scoped>\n",
       "    .dataframe tbody tr th:only-of-type {\n",
       "        vertical-align: middle;\n",
       "    }\n",
       "\n",
       "    .dataframe tbody tr th {\n",
       "        vertical-align: top;\n",
       "    }\n",
       "\n",
       "    .dataframe thead th {\n",
       "        text-align: right;\n",
       "    }\n",
       "</style>\n",
       "<table border=\"1\" class=\"dataframe\">\n",
       "  <thead>\n",
       "    <tr style=\"text-align: right;\">\n",
       "      <th></th>\n",
       "      <th>Course Name</th>\n",
       "      <th>Course Description</th>\n",
       "      <th>Price</th>\n",
       "      <th>Category</th>\n",
       "      <th>Skills that will be taught</th>\n",
       "    </tr>\n",
       "  </thead>\n",
       "  <tbody>\n",
       "    <tr>\n",
       "      <th>0</th>\n",
       "      <td>JavaScript</td>\n",
       "      <td>Master JavaScript with ES6 concepts asynchrono...</td>\n",
       "      <td>1</td>\n",
       "      <td>Web Development</td>\n",
       "      <td>JavaScript DOM API HTML CSS</td>\n",
       "    </tr>\n",
       "    <tr>\n",
       "      <th>1</th>\n",
       "      <td>React</td>\n",
       "      <td>Build modern web applications using React.js ...</td>\n",
       "      <td>10</td>\n",
       "      <td>Web Development</td>\n",
       "      <td>JavaScript React Redux HTML CSS</td>\n",
       "    </tr>\n",
       "    <tr>\n",
       "      <th>2</th>\n",
       "      <td>ML</td>\n",
       "      <td>Learn the fundamentals of Machine Learning inc...</td>\n",
       "      <td>1</td>\n",
       "      <td>Artificial Intelligence</td>\n",
       "      <td>Maths Statistics Calculus Python</td>\n",
       "    </tr>\n",
       "    <tr>\n",
       "      <th>3</th>\n",
       "      <td>PHP</td>\n",
       "      <td>Learn PHP from basics to advanced covering syn...</td>\n",
       "      <td>1</td>\n",
       "      <td>Web Development</td>\n",
       "      <td>HTML CSS</td>\n",
       "    </tr>\n",
       "    <tr>\n",
       "      <th>4</th>\n",
       "      <td>Data Analyst</td>\n",
       "      <td>Master the fundamentals of Data Analysis with ...</td>\n",
       "      <td>1000</td>\n",
       "      <td>Data Science</td>\n",
       "      <td>Python SQL Excel Power BI</td>\n",
       "    </tr>\n",
       "  </tbody>\n",
       "</table>\n",
       "</div>"
      ],
      "text/plain": [
       "    Course Name                                 Course Description  Price  \\\n",
       "0    JavaScript  Master JavaScript with ES6 concepts asynchrono...      1   \n",
       "1         React   Build modern web applications using React.js ...     10   \n",
       "2            ML  Learn the fundamentals of Machine Learning inc...      1   \n",
       "3           PHP  Learn PHP from basics to advanced covering syn...      1   \n",
       "4  Data Analyst  Master the fundamentals of Data Analysis with ...   1000   \n",
       "\n",
       "                  Category        Skills that will be taught  \n",
       "0          Web Development      JavaScript DOM API HTML CSS   \n",
       "1          Web Development   JavaScript React Redux HTML CSS  \n",
       "2  Artificial Intelligence  Maths Statistics Calculus Python  \n",
       "3          Web Development                          HTML CSS  \n",
       "4             Data Science         Python SQL Excel Power BI  "
      ]
     },
     "execution_count": 27,
     "metadata": {},
     "output_type": "execute_result"
    }
   ],
   "source": [
    "mini_data = pd.read_csv(\"minidata.csv\")\n",
    "mini_data.head()"
   ]
  },
  {
   "cell_type": "code",
   "execution_count": 28,
   "metadata": {},
   "outputs": [
    {
     "data": {
      "text/plain": [
       "Category\n",
       "Artificial Intelligence    7\n",
       "Programming                7\n",
       "Web Development            6\n",
       "Data Science               6\n",
       "Mobile Development         4\n",
       "Name: count, dtype: int64"
      ]
     },
     "execution_count": 28,
     "metadata": {},
     "output_type": "execute_result"
    }
   ],
   "source": [
    "mini_data['Category'].value_counts()\n"
   ]
  },
  {
   "cell_type": "code",
   "execution_count": 29,
   "metadata": {},
   "outputs": [
    {
     "data": {
      "text/html": [
       "<div>\n",
       "<style scoped>\n",
       "    .dataframe tbody tr th:only-of-type {\n",
       "        vertical-align: middle;\n",
       "    }\n",
       "\n",
       "    .dataframe tbody tr th {\n",
       "        vertical-align: top;\n",
       "    }\n",
       "\n",
       "    .dataframe thead th {\n",
       "        text-align: right;\n",
       "    }\n",
       "</style>\n",
       "<table border=\"1\" class=\"dataframe\">\n",
       "  <thead>\n",
       "    <tr style=\"text-align: right;\">\n",
       "      <th></th>\n",
       "      <th>course_name</th>\n",
       "      <th>course_description</th>\n",
       "      <th>Price</th>\n",
       "      <th>Category</th>\n",
       "      <th>Skills that will be taught</th>\n",
       "    </tr>\n",
       "  </thead>\n",
       "  <tbody>\n",
       "    <tr>\n",
       "      <th>0</th>\n",
       "      <td>JavaScript</td>\n",
       "      <td>Master JavaScript with ES6 concepts asynchrono...</td>\n",
       "      <td>1</td>\n",
       "      <td>Web Development</td>\n",
       "      <td>JavaScript DOM API HTML CSS</td>\n",
       "    </tr>\n",
       "    <tr>\n",
       "      <th>1</th>\n",
       "      <td>React</td>\n",
       "      <td>Build modern web applications using React.js ...</td>\n",
       "      <td>10</td>\n",
       "      <td>Web Development</td>\n",
       "      <td>JavaScript React Redux HTML CSS</td>\n",
       "    </tr>\n",
       "    <tr>\n",
       "      <th>2</th>\n",
       "      <td>ML</td>\n",
       "      <td>Learn the fundamentals of Machine Learning inc...</td>\n",
       "      <td>1</td>\n",
       "      <td>Artificial Intelligence</td>\n",
       "      <td>Maths Statistics Calculus Python</td>\n",
       "    </tr>\n",
       "    <tr>\n",
       "      <th>3</th>\n",
       "      <td>PHP</td>\n",
       "      <td>Learn PHP from basics to advanced covering syn...</td>\n",
       "      <td>1</td>\n",
       "      <td>Web Development</td>\n",
       "      <td>HTML CSS</td>\n",
       "    </tr>\n",
       "    <tr>\n",
       "      <th>4</th>\n",
       "      <td>Data Analyst</td>\n",
       "      <td>Master the fundamentals of Data Analysis with ...</td>\n",
       "      <td>1000</td>\n",
       "      <td>Data Science</td>\n",
       "      <td>Python SQL Excel Power BI</td>\n",
       "    </tr>\n",
       "  </tbody>\n",
       "</table>\n",
       "</div>"
      ],
      "text/plain": [
       "    course_name                                 course_description  Price  \\\n",
       "0    JavaScript  Master JavaScript with ES6 concepts asynchrono...      1   \n",
       "1         React   Build modern web applications using React.js ...     10   \n",
       "2            ML  Learn the fundamentals of Machine Learning inc...      1   \n",
       "3           PHP  Learn PHP from basics to advanced covering syn...      1   \n",
       "4  Data Analyst  Master the fundamentals of Data Analysis with ...   1000   \n",
       "\n",
       "                  Category        Skills that will be taught  \n",
       "0          Web Development      JavaScript DOM API HTML CSS   \n",
       "1          Web Development   JavaScript React Redux HTML CSS  \n",
       "2  Artificial Intelligence  Maths Statistics Calculus Python  \n",
       "3          Web Development                          HTML CSS  \n",
       "4             Data Science         Python SQL Excel Power BI  "
      ]
     },
     "execution_count": 29,
     "metadata": {},
     "output_type": "execute_result"
    }
   ],
   "source": [
    "mini_data.rename(columns = {'Course Name':'course_name'}, inplace = True)\n",
    "mini_data.rename(columns = {'Course Description':'course_description'}, inplace = True)\n",
    "mini_data.head()"
   ]
  },
  {
   "cell_type": "code",
   "execution_count": 30,
   "metadata": {},
   "outputs": [],
   "source": [
    "def recommend(course):\n",
    "    course_index = new_data[new_data['course_name'] == course].index[0]\n",
    "    distances = similarity[course_index]\n",
    "    course_list = sorted(list(enumerate(distances)),reverse=True, key=lambda x:x[1])[1:7]\n",
    "    \n",
    "    for i in course_list:\n",
    "        print(new_data.iloc[i[0]].course_name)\n"
   ]
  },
  {
   "cell_type": "code",
   "execution_count": 31,
   "metadata": {},
   "outputs": [
    {
     "name": "stdout",
     "output_type": "stream",
     "text": [
      "Data Analyst\n",
      "NLP with Python\n",
      "Data Engineering\n",
      "Data Wrangling\n",
      "ML\n",
      "Reinforcement Learning with Python\n"
     ]
    }
   ],
   "source": [
    "recommend('Python')"
   ]
  },
  {
   "cell_type": "code",
   "execution_count": 32,
   "metadata": {},
   "outputs": [
    {
     "data": {
      "text/html": [
       "<div>\n",
       "<style scoped>\n",
       "    .dataframe tbody tr th:only-of-type {\n",
       "        vertical-align: middle;\n",
       "    }\n",
       "\n",
       "    .dataframe tbody tr th {\n",
       "        vertical-align: top;\n",
       "    }\n",
       "\n",
       "    .dataframe thead th {\n",
       "        text-align: right;\n",
       "    }\n",
       "</style>\n",
       "<table border=\"1\" class=\"dataframe\">\n",
       "  <thead>\n",
       "    <tr style=\"text-align: right;\">\n",
       "      <th></th>\n",
       "      <th>course_name</th>\n",
       "      <th>tags</th>\n",
       "    </tr>\n",
       "  </thead>\n",
       "  <tbody>\n",
       "    <tr>\n",
       "      <th>0</th>\n",
       "      <td>ML</td>\n",
       "      <td>ml learn the fundament of machin learn includ ...</td>\n",
       "    </tr>\n",
       "    <tr>\n",
       "      <th>1</th>\n",
       "      <td>PHP</td>\n",
       "      <td>php learn php from basic to advanc cover synta...</td>\n",
       "    </tr>\n",
       "    <tr>\n",
       "      <th>2</th>\n",
       "      <td>Data Analyst</td>\n",
       "      <td>data analyst master the fundament of data anal...</td>\n",
       "    </tr>\n",
       "    <tr>\n",
       "      <th>3</th>\n",
       "      <td>Deep Learning</td>\n",
       "      <td>deep learn explor neural network cnn rnn and t...</td>\n",
       "    </tr>\n",
       "    <tr>\n",
       "      <th>4</th>\n",
       "      <td>JavaScript</td>\n",
       "      <td>javascript master javascript with es6 concept ...</td>\n",
       "    </tr>\n",
       "  </tbody>\n",
       "</table>\n",
       "</div>"
      ],
      "text/plain": [
       "     course_name                                               tags\n",
       "0             ML  ml learn the fundament of machin learn includ ...\n",
       "1            PHP  php learn php from basic to advanc cover synta...\n",
       "2   Data Analyst  data analyst master the fundament of data anal...\n",
       "3  Deep Learning  deep learn explor neural network cnn rnn and t...\n",
       "4     JavaScript  javascript master javascript with es6 concept ..."
      ]
     },
     "execution_count": 32,
     "metadata": {},
     "output_type": "execute_result"
    }
   ],
   "source": [
    "new_data.head()"
   ]
  },
  {
   "cell_type": "code",
   "execution_count": 33,
   "metadata": {},
   "outputs": [],
   "source": [
    "# Exporting the Model"
   ]
  },
  {
   "cell_type": "code",
   "execution_count": 34,
   "metadata": {},
   "outputs": [],
   "source": [
    "import pickle"
   ]
  },
  {
   "cell_type": "code",
   "execution_count": 35,
   "metadata": {},
   "outputs": [],
   "source": [
    "mini_data = mini_data[['course_name', 'course_description']]"
   ]
  },
  {
   "cell_type": "code",
   "execution_count": 36,
   "metadata": {},
   "outputs": [
    {
     "data": {
      "text/html": [
       "<div>\n",
       "<style scoped>\n",
       "    .dataframe tbody tr th:only-of-type {\n",
       "        vertical-align: middle;\n",
       "    }\n",
       "\n",
       "    .dataframe tbody tr th {\n",
       "        vertical-align: top;\n",
       "    }\n",
       "\n",
       "    .dataframe thead th {\n",
       "        text-align: right;\n",
       "    }\n",
       "</style>\n",
       "<table border=\"1\" class=\"dataframe\">\n",
       "  <thead>\n",
       "    <tr style=\"text-align: right;\">\n",
       "      <th></th>\n",
       "      <th>course_name</th>\n",
       "      <th>course_description</th>\n",
       "    </tr>\n",
       "  </thead>\n",
       "  <tbody>\n",
       "    <tr>\n",
       "      <th>0</th>\n",
       "      <td>JavaScript</td>\n",
       "      <td>Master JavaScript with ES6 concepts asynchrono...</td>\n",
       "    </tr>\n",
       "    <tr>\n",
       "      <th>1</th>\n",
       "      <td>React</td>\n",
       "      <td>Build modern web applications using React.js ...</td>\n",
       "    </tr>\n",
       "    <tr>\n",
       "      <th>2</th>\n",
       "      <td>ML</td>\n",
       "      <td>Learn the fundamentals of Machine Learning inc...</td>\n",
       "    </tr>\n",
       "    <tr>\n",
       "      <th>3</th>\n",
       "      <td>PHP</td>\n",
       "      <td>Learn PHP from basics to advanced covering syn...</td>\n",
       "    </tr>\n",
       "    <tr>\n",
       "      <th>4</th>\n",
       "      <td>Data Analyst</td>\n",
       "      <td>Master the fundamentals of Data Analysis with ...</td>\n",
       "    </tr>\n",
       "  </tbody>\n",
       "</table>\n",
       "</div>"
      ],
      "text/plain": [
       "    course_name                                 course_description\n",
       "0    JavaScript  Master JavaScript with ES6 concepts asynchrono...\n",
       "1         React   Build modern web applications using React.js ...\n",
       "2            ML  Learn the fundamentals of Machine Learning inc...\n",
       "3           PHP  Learn PHP from basics to advanced covering syn...\n",
       "4  Data Analyst  Master the fundamentals of Data Analysis with ..."
      ]
     },
     "execution_count": 36,
     "metadata": {},
     "output_type": "execute_result"
    }
   ],
   "source": [
    "mini_data.head()"
   ]
  },
  {
   "cell_type": "code",
   "execution_count": 37,
   "metadata": {},
   "outputs": [
    {
     "data": {
      "text/plain": [
       "{'course_name': {0: 'JavaScript',\n",
       "  1: 'React',\n",
       "  2: 'ML',\n",
       "  3: 'PHP',\n",
       "  4: 'Data Analyst',\n",
       "  5: 'Full-Stack Development',\n",
       "  6: 'SQL',\n",
       "  7: 'Python',\n",
       "  8: 'Java',\n",
       "  9: 'Deep Learning',\n",
       "  10: 'Android Development',\n",
       "  11: 'Django',\n",
       "  12: 'Artificial Intelligence',\n",
       "  13: 'R Programming',\n",
       "  14: 'Node.js',\n",
       "  15: 'NLP with Python',\n",
       "  16: 'Data Wrangling',\n",
       "  17: 'C',\n",
       "  18: 'Swift',\n",
       "  19: 'TypeScript',\n",
       "  20: 'Kotlin',\n",
       "  21: 'Advanced ML',\n",
       "  22: 'Data Engineering',\n",
       "  23: 'iOS Development',\n",
       "  24: 'Advanced Java',\n",
       "  25: 'Big Data Analytics',\n",
       "  26: 'Mobile UI UX Design',\n",
       "  27: 'Reinforcement Learning with Python',\n",
       "  28: 'AI Ethics',\n",
       "  29: 'React Native'},\n",
       " 'course_description': {0: 'Master JavaScript with ES6 concepts asynchronous programming and web development',\n",
       "  1: ' Build modern web applications using React.js including hooks state management and APIs',\n",
       "  2: 'Learn the fundamentals of Machine Learning including algorithms model training and real-world applications',\n",
       "  3: 'Learn PHP from basics to advanced covering syntax functions databases and web development with hands-on projects',\n",
       "  4: 'Master the fundamentals of Data Analysis with hands-on projects and real-world applications',\n",
       "  5: 'Master front-end and back-end development using MERN stack',\n",
       "  6: 'Learn how to query and manipulate data efficiently using SQL',\n",
       "  7: 'Learn Python from basics to advanced covering syntax data structures OOP and real-world applications',\n",
       "  8: 'Master Java programming including OOP multithreading and web development',\n",
       "  9: 'Explore neural networks CNNs RNNs and transformers for AI applications',\n",
       "  10: 'Learn to build Android apps with Java and Kotlin from scratch',\n",
       "  11: 'Build full-stack web applications with Django and PostgreSQL',\n",
       "  12: 'Understand AI concepts including search planning and reinforcement learning',\n",
       "  13: 'Learn R for statistical computing and data visualization',\n",
       "  14: 'Learn back-end development with Node.js Express and MongoDB',\n",
       "  15: 'Explore Natural Language Processing techniques using Python and real-world applications',\n",
       "  16: 'Master data cleaning and preprocessing techniques for data analysis and machine learning',\n",
       "  17: 'Learn the fundamentals of C programming memory management and pointers',\n",
       "  18: 'Learn Swift programming for iOS app development',\n",
       "  19: 'Enhance JavaScript skills with TypeScript for scalable front-end and back-end development',\n",
       "  20: 'Master Kotlin for Android app development and backend applications',\n",
       "  21: 'Master advanced machine learning techniques including ensemble learning and hyperparameter tuning',\n",
       "  22: 'Understand data pipelines ETL and big data processing',\n",
       "  23: 'Build iOS applications using Swift and UIKit from scratch',\n",
       "  24: 'Deep dive into Java covering JVM internals reflection and concurrency',\n",
       "  25: 'Analyze large-scale datasets using Hadoop Spark and distributed computing',\n",
       "  26: 'Learn principles of UI UX design for mobile applications',\n",
       "  27: 'Learn Reinforcement Learning concepts including Q-learning and policy gradients',\n",
       "  28: 'Understand ethical considerations in AI fairness bias and accountability',\n",
       "  29: 'Develop cross-platform mobile applications using React Native'}}"
      ]
     },
     "execution_count": 37,
     "metadata": {},
     "output_type": "execute_result"
    }
   ],
   "source": [
    "mini_data.to_dict()"
   ]
  },
  {
   "cell_type": "code",
   "execution_count": 38,
   "metadata": {},
   "outputs": [
    {
     "data": {
      "text/html": [
       "<div>\n",
       "<style scoped>\n",
       "    .dataframe tbody tr th:only-of-type {\n",
       "        vertical-align: middle;\n",
       "    }\n",
       "\n",
       "    .dataframe tbody tr th {\n",
       "        vertical-align: top;\n",
       "    }\n",
       "\n",
       "    .dataframe thead th {\n",
       "        text-align: right;\n",
       "    }\n",
       "</style>\n",
       "<table border=\"1\" class=\"dataframe\">\n",
       "  <thead>\n",
       "    <tr style=\"text-align: right;\">\n",
       "      <th></th>\n",
       "      <th>course_name</th>\n",
       "      <th>tags</th>\n",
       "    </tr>\n",
       "  </thead>\n",
       "  <tbody>\n",
       "    <tr>\n",
       "      <th>0</th>\n",
       "      <td>ML</td>\n",
       "      <td>ml learn the fundament of machin learn includ ...</td>\n",
       "    </tr>\n",
       "    <tr>\n",
       "      <th>1</th>\n",
       "      <td>PHP</td>\n",
       "      <td>php learn php from basic to advanc cover synta...</td>\n",
       "    </tr>\n",
       "    <tr>\n",
       "      <th>2</th>\n",
       "      <td>Data Analyst</td>\n",
       "      <td>data analyst master the fundament of data anal...</td>\n",
       "    </tr>\n",
       "    <tr>\n",
       "      <th>3</th>\n",
       "      <td>Deep Learning</td>\n",
       "      <td>deep learn explor neural network cnn rnn and t...</td>\n",
       "    </tr>\n",
       "    <tr>\n",
       "      <th>4</th>\n",
       "      <td>JavaScript</td>\n",
       "      <td>javascript master javascript with es6 concept ...</td>\n",
       "    </tr>\n",
       "  </tbody>\n",
       "</table>\n",
       "</div>"
      ],
      "text/plain": [
       "     course_name                                               tags\n",
       "0             ML  ml learn the fundament of machin learn includ ...\n",
       "1            PHP  php learn php from basic to advanc cover synta...\n",
       "2   Data Analyst  data analyst master the fundament of data anal...\n",
       "3  Deep Learning  deep learn explor neural network cnn rnn and t...\n",
       "4     JavaScript  javascript master javascript with es6 concept ..."
      ]
     },
     "execution_count": 38,
     "metadata": {},
     "output_type": "execute_result"
    }
   ],
   "source": [
    "new_data.head()"
   ]
  },
  {
   "cell_type": "code",
   "execution_count": 39,
   "metadata": {},
   "outputs": [],
   "source": [
    "new_data = new_data.to_json()"
   ]
  },
  {
   "cell_type": "code",
   "execution_count": 40,
   "metadata": {},
   "outputs": [
    {
     "name": "stdout",
     "output_type": "stream",
     "text": [
      "{\"course_name\":{\"0\":\"ML\",\"1\":\"PHP\",\"2\":\"Data Analyst\",\"3\":\"Deep Learning\",\"4\":\"JavaScript\",\"5\":\"React\",\"6\":\"Android Development\",\"7\":\"Django\",\"8\":\"Artificial Intelligence\",\"9\":\"Power BI\",\"10\":\"TensorFlow\",\"11\":\"R Programming\",\"12\":\"Full-Stack Development\",\"13\":\"Node.js\",\"14\":\"NLP with Python\",\"15\":\"Data Wrangling\",\"16\":\"Flutter Development\",\"17\":\"Computer Vision\",\"18\":\"SQL for Data Science\",\"19\":\"Python\",\"20\":\"Java\",\"21\":\"C\",\"22\":\"Rust\",\"23\":\"Go\",\"24\":\"Swift\",\"25\":\"TypeScript\",\"26\":\"Kotlin\",\"27\":\"Ruby\",\"28\":\"Perl\",\"29\":\"Advanced ML\",\"30\":\"Web Security\",\"31\":\"Data Engineering\",\"32\":\"iOS Development\",\"33\":\"Advanced Java\",\"34\":\"BI with Tableau\",\"35\":\"Embedded Systems\",\"36\":\"Vue.js\",\"37\":\"NLP with TensorFlow\",\"38\":\"Big Data Analytics\",\"39\":\"Mobile UI UX Design\",\"40\":\"Rust Web Development\",\"41\":\"Full-Stack with Next.js\",\"42\":\"Reinforcement Learning with Python\",\"43\":\"ETL Pipelines\",\"44\":\"Firebase Mobile Apps\",\"45\":\"Microservices with Spring Boot\",\"46\":\"Cybersecurity for Developers\",\"47\":\"Transformers for NLP\",\"48\":\"Data Science with R\",\"49\":\"AR VR Development\",\"50\":\"Concurrency in Go\",\"51\":\"Laravel\",\"52\":\"AI Ethics\",\"53\":\"Data Visualization with D3.js\",\"54\":\"React Native\",\"55\":\"Compiler Design\"},\"tags\":{\"0\":\"ml learn the fundament of machin learn includ algorithm model train and real-world applic math statist calculu python\",\"1\":\"php learn php from basic to advanc cover syntax function databas and web develop with hands-on project html css\",\"2\":\"data analyst master the fundament of data analysi with hands-on project and real-world applic python sql excel power bi\",\"3\":\"deep learn explor neural network cnn rnn and transform for ai applic python pytorch tensorflow math calculu\",\"4\":\"javascript master javascript with es6 concept asynchron program and web develop javascript dom api html css\",\"5\":\"react build modern web applic use react.j includ hook state manag and api javascript react redux html css\",\"6\":\"android develop learn to build android app with java and kotlin from scratch java kotlin android studio\",\"7\":\"django build full-stack web applic with django and postgresql python django sql\",\"8\":\"artifici intellig understand ai concept includ search plan and reinforc learn python ai ml algorithm\",\"9\":\"power bi learn data visual and report with power bi for busi intellig power bi dax data visual\",\"10\":\"tensorflow master deep learn with tensorflow for imag and nlp applic tensorflow kera python\",\"11\":\"r program learn r for statist comput and data visual r ggplot2 statist\",\"12\":\"full-stack develop master front-end and back-end develop use mern stack javascript node.j react mongodb\",\"13\":\"node.j learn back-end develop with node.j express and mongodb javascript node.j express mongodb\",\"14\":\"nlp with python explor natur languag process techniqu use python and real-world applic python nlp transform text process\",\"15\":\"data wrangl master data clean and preprocess techniqu for data analysi and machin learn panda numpi sql python\",\"16\":\"flutter develop build cross-platform mobil app use flutter and dart flutter dart ui design\",\"17\":\"comput vision learn imag process and object detect use opencv and deep learn ml tensorflow python\",\"18\":\"sql for data scienc learn how to queri and manipul data effici use sql sql databas queri optim\",\"19\":\"python learn python from basic to advanc cover syntax data structur oop and real-world applic python oop data structur autom\",\"20\":\"java master java program includ oop multithread and web develop java oop spring boot\",\"21\":\"c learn the fundament of c program memori manag and pointer c pointer memori manag\",\"22\":\"rust explor rust program for system-level develop and perform optim rust concurr memori safeti\",\"23\":\"go master go program for scalabl and effici applic go goroutin web develop\",\"24\":\"swift learn swift program for io app develop swift xcode ui design\",\"25\":\"typescript enhanc javascript skill with typescript for scalabl front-end and back-end develop typescript javascript static type\",\"26\":\"kotlin master kotlin for android app develop and backend applic kotlin android spring boot\",\"27\":\"rubi learn rubi and the fundament of web develop with rubi on rail rubi rail web develop\",\"28\":\"perl understand perl script for autom and text process perl script regex\",\"29\":\"advanc ml master advanc machin learn techniqu includ ensembl learn and hyperparamet tune python deeplearn optim\",\"30\":\"web secur learn about web secur vulner authent and encrypt techniqu secur http cryptographi\",\"31\":\"data engin understand data pipelin etl and big data process python sql bigdata\",\"32\":\"io develop build io applic use swift and uikit from scratch swift uikit appdevelop\",\"33\":\"advanc java deep dive into java cover jvm intern reflect and concurr java jvm concurr\",\"34\":\"bi with tableau creat interact dashboard and report use tableau for busi intellig tableau datavisu analyt\",\"35\":\"embed system understand microcontrol rto and firmwar develop c embeddedsystem microcontrol\",\"36\":\"vue.j learn vue.j for build modern web interfac and single-pag applic vue.j javascript frontend\",\"37\":\"nlp with tensorflow master nlp techniqu includ text classif and transform use tensorflow tensorflow nlp deeplearn\",\"38\":\"big data analyt analyz large-scal dataset use hadoop spark and distribut comput spark hadoop bigdata\",\"39\":\"mobil ui ux design learn principl of ui ux design for mobil applic uiux design prototyp\",\"40\":\"rust web develop develop high-perform web applic use rust and actix rust actix webdevelop\",\"41\":\"full-stack with next.j master full-stack web develop with next.j react and server-sid render next.j react ssr\",\"42\":\"reinforc learn with python learn reinforc learn concept includ q-learn and polici gradient python reinforcementlearn deeplearn\",\"43\":\"etl pipelin build scalabl etl pipelin use apach airflow and data process framework airflow sql dataprocess\",\"44\":\"firebas mobil app creat serverless mobil applic use firebas backend servic firebas android io\",\"45\":\"microservic with spring boot develop microservic architectur use spring boot and kubernet springboot microservic kubernet\",\"46\":\"cybersecur for develop learn secur code practic and common vulner in web applic secur owasp securecod\",\"47\":\"transform for nlp understand transform model includ bert gpt and their applic transform nlp deeplearn\",\"48\":\"data scienc with r analyz data use r for statist comput and visual r ggplot datasci\",\"49\":\"ar vr develop learn to build augment and virtual realiti applic uniti arkit vrdevelop\",\"50\":\"concurr in go explor concurr program pattern and goroutin in go go concurr parallel\",\"51\":\"laravel master backend develop use laravel for scalabl web applic laravel php mysql\",\"52\":\"ai ethic understand ethic consider in ai fair bia and account ai ethic responsibleai\",\"53\":\"data visual with d3.j creat interact data visual use d3.j d3.j javascript visual\",\"54\":\"react nativ develop cross-platform mobil applic use react nativ reactn javascript mobiledevelop\",\"55\":\"compil design understand how program languag are pars and compil compilerdesign pars ast\"}}\n"
     ]
    }
   ],
   "source": [
    "print(new_data)"
   ]
  },
  {
   "cell_type": "code",
   "execution_count": 41,
   "metadata": {},
   "outputs": [],
   "source": [
    "import json\n",
    "\n",
    "# Sample data (dictionary format)\n",
    "# data = {\n",
    "#     \"name\": \"Alice\",\n",
    "#     \"age\": 25,\n",
    "#     \"city\": \"New York\"\n",
    "# }\n",
    "\n",
    "# # Writing to a JSON file\n",
    "# with open(\"data.json\", \"w\") as json_file:\n",
    "#     json.dump(data, json_file, indent=4)\n",
    "\n",
    "# print(\"Data exported to data.json\")\n"
   ]
  },
  {
   "cell_type": "code",
   "execution_count": 42,
   "metadata": {},
   "outputs": [],
   "source": [
    "# pickle.dump(similarity,open('similarity.pkl','wb'))"
   ]
  },
  {
   "cell_type": "code",
   "execution_count": 43,
   "metadata": {},
   "outputs": [],
   "source": [
    "# pickle.dump(mini_data.to_dict(),open('course_list.pkl','wb')) #contains the dataframe in dict\n",
    "# pickle.dump(mini_data,open('minidata.pkl','wb'))"
   ]
  },
  {
   "cell_type": "code",
   "execution_count": 44,
   "metadata": {},
   "outputs": [],
   "source": [
    "# pickle.dump(new_data,open('courses.pkl','wb'))"
   ]
  },
  {
   "cell_type": "code",
   "execution_count": 45,
   "metadata": {},
   "outputs": [
    {
     "name": "stdout",
     "output_type": "stream",
     "text": [
      "Model's accuracy is : 80.0\n"
     ]
    }
   ],
   "source": [
    "def precision_at_k(recommended_items, relevant_items, k=5):\n",
    "    recommended_at_k = recommended_items[:k]  # Top-K recommended items\n",
    "    hits = len(set(recommended_at_k) & set(relevant_items))  # Items in both lists\n",
    "    return hits / k\n",
    "\n",
    "# Example data\n",
    "recommended = [\"Data Analyst\", \"NLP with Python\", \"Data Engineering\", \"Data Wrangling\", \"ML\", \"Reinforcement Learning with Python\"]  # Top 6 recommendations\n",
    "relevant = [\"Python Data Structures and Algorithms\", \"Data Engineering\", \"Data Analyst\", \"Data Wrangling\", \"ML\"]  # True relevant items\n",
    "\n",
    "precision = precision_at_k(recommended, relevant, k=5)\n",
    "print(\"Model's accuracy is :\" , precision * 100)\n"
   ]
  },
  {
   "cell_type": "code",
   "execution_count": 46,
   "metadata": {},
   "outputs": [
    {
     "data": {
      "text/plain": [
       "array([[1.        , 0.06063391, 0.29462783, ..., 0.        , 0.06063391,\n",
       "        0.        ],\n",
       "       [0.06063391, 1.        , 0.11433239, ..., 0.        , 0.        ,\n",
       "        0.        ],\n",
       "       [0.29462783, 0.11433239, 1.        , ..., 0.1693335 , 0.0571662 ,\n",
       "        0.        ],\n",
       "       ...,\n",
       "       [0.        , 0.        , 0.1693335 , ..., 1.        , 0.08712137,\n",
       "        0.        ],\n",
       "       [0.06063391, 0.        , 0.0571662 , ..., 0.08712137, 1.        ,\n",
       "        0.        ],\n",
       "       [0.        , 0.        , 0.        , ..., 0.        , 0.        ,\n",
       "        1.        ]])"
      ]
     },
     "execution_count": 46,
     "metadata": {},
     "output_type": "execute_result"
    }
   ],
   "source": [
    "similarity\n"
   ]
  },
  {
   "cell_type": "code",
   "execution_count": 47,
   "metadata": {},
   "outputs": [
    {
     "name": "stdout",
     "output_type": "stream",
     "text": [
      "[[1.0, 0.06063390625908324, 0.2946278254943948, 0.32274861218395134, 0.0, 0.10206207261596577, 0.05212860351426869, 0.125, 0.3125, 0.04490132550669373, 0.18190171877724973, 0.17677669529663687, 0.0, 0.04564354645876384, 0.2886751345948129, 0.1636634176769943, 0.0, 0.2672612419124244, 0.051031036307982884, 0.3195048252113469, 0.0545544725589981, 0.12909944487358055, 0.0, 0.08838834764831843, 0.06063390625908324, 0.0, 0.05590169943749474, 0.09128709291752768, 0.0, 0.34412360080584264, 0.05590169943749474, 0.05892556509887897, 0.05892556509887897, 0.0, 0.0, 0.0, 0.0944911182523068, 0.04902903378454601, 0.0, 0.09805806756909202, 0.051031036307982884, 0.0, 0.3572172541558802, 0.0, 0.053300179088902604, 0.0, 0.1386750490563073, 0.125, 0.0, 0.14433756729740646, 0.0, 0.05892556509887897, 0.0, 0.0, 0.06063390625908324, 0.0], [0.06063390625908324, 1.0, 0.1143323900950059, 0.0, 0.21693045781865616, 0.14852213144650117, 0.10114434748483472, 0.06063390625908324, 0.0, 0.04356068418690321, 0.0, 0.08574929257125441, 0.10846522890932808, 0.08856148855400953, 0.0, 0.0, 0.05170876899950191, 0.06482037235521644, 0.04950737714883372, 0.22140372138502382, 0.10585122480499264, 0.06262242910851494, 0.05716619504750295, 0.17149858514250882, 0.11764705882352941, 0.05057217374241736, 0.05423261445466404, 0.22140372138502382, 0.0, 0.11128297681493143, 0.16269784336399212, 0.0, 0.05716619504750295, 0.10114434748483472, 0.0, 0.07312724241271307, 0.09166984970282112, 0.0, 0.0, 0.04756514941544941, 0.14852213144650117, 0.10114434748483472, 0.04950737714883372, 0.0, 0.0, 0.0, 0.1345345587992625, 0.0, 0.0, 0.140028008402801, 0.0, 0.2286647801900118, 0.0, 0.0, 0.0, 0.0], [0.2946278254943948, 0.1143323900950059, 1.0000000000000002, 0.12171612389003691, 0.052704627669472995, 0.04811252243246882, 0.0, 0.1767766952966369, 0.05892556509887897, 0.4233337566673017, 0.17149858514250885, 0.16666666666666666, 0.052704627669472995, 0.0, 0.2721655269759087, 0.5143444998736397, 0.0, 0.06299407883487121, 0.33678765702728175, 0.43033148291193524, 0.051434449987363975, 0.06085806194501846, 0.0, 0.16666666666666666, 0.0, 0.0, 0.10540925533894599, 0.04303314829119352, 0.0, 0.10814761408717502, 0.0, 0.44444444444444453, 0.055555555555555566, 0.0, 0.05407380704358751, 0.0, 0.0445435403187374, 0.04622501635210244, 0.10814761408717502, 0.04622501635210244, 0.04811252243246882, 0.049147318718299055, 0.09622504486493764, 0.15430334996209194, 0.050251890762960605, 0.0, 0.06537204504606135, 0.05892556509887897, 0.27216552697590873, 0.06804138174397718, 0.0, 0.11111111111111113, 0.0, 0.16933350266692068, 0.05716619504750295, 0.0], [0.32274861218395134, 0.0, 0.12171612389003691, 0.9999999999999998, 0.0, 0.05270462766947299, 0.0, 0.12909944487358055, 0.2581988897471611, 0.0, 0.43835700375960457, 0.0, 0.0, 0.0, 0.2981423969999719, 0.1126872339638022, 0.0, 0.2760262237369417, 0.0, 0.18856180831641264, 0.0, 0.0, 0.06085806194501846, 0.09128709291752767, 0.0, 0.0, 0.05773502691896257, 0.0, 0.0, 0.17770466332772766, 0.0, 0.06085806194501846, 0.06085806194501846, 0.053838190205816545, 0.0, 0.0, 0.04879500364742665, 0.2025478734167333, 0.0, 0.050636968354183326, 0.05270462766947299, 0.0, 0.26352313834736496, 0.0, 0.05504818825631802, 0.0, 0.07161148740394328, 0.19364916731037082, 0.0, 0.07453559924999299, 0.0816496580927726, 0.06085806194501846, 0.1732050807568877, 0.0, 0.06262242910851494, 0.0], [0.0, 0.21693045781865616, 0.052704627669472995, 0.0, 1.0, 0.2738612787525831, 0.04662524041201569, 0.05590169943749474, 0.05590169943749474, 0.0, 0.05423261445466404, 0.07905694150420947, 0.3, 0.1632993161855452, 0.0, 0.04879500364742666, 0.04767312946227961, 0.0, 0.0, 0.0, 0.19518001458970666, 0.05773502691896257, 0.10540925533894599, 0.3162277660168379, 0.10846522890932808, 0.3263766828841098, 0.09999999999999999, 0.1632993161855452, 0.0, 0.0512989176042577, 0.09999999999999999, 0.0, 0.052704627669472995, 0.0, 0.0, 0.06741998624632421, 0.1690308509457033, 0.043852900965351466, 0.0, 0.0, 0.13693063937629155, 0.13987572123604708, 0.045643546458763846, 0.0, 0.0, 0.0, 0.06201736729460423, 0.0, 0.0, 0.06454972243679029, 0.07071067811865475, 0.15811388300841897, 0.0, 0.12048289933537484, 0.16269784336399212, 0.07071067811865475], [0.10206207261596577, 0.14852213144650117, 0.04811252243246882, 0.05270462766947299, 0.2738612787525831, 1.0000000000000002, 0.042562826537937436, 0.15309310892394865, 0.051031036307982884, 0.0, 0.04950737714883372, 0.0, 0.2738612787525831, 0.14907119849998599, 0.07856742013183862, 0.0, 0.08703882797784893, 0.054554472558998104, 0.04166666666666668, 0.037267799624996496, 0.08908708063747481, 0.10540925533894598, 0.0, 0.14433756729740646, 0.0, 0.08512565307587487, 0.045643546458763846, 0.07453559924999299, 0.0, 0.0468292905790847, 0.09128709291752769, 0.0, 0.14433756729740646, 0.0, 0.0468292905790847, 0.0, 0.27003086243366087, 0.08006407690254358, 0.0468292905790847, 0.04003203845127179, 0.1666666666666667, 0.42562826537937437, 0.04166666666666668, 0.08908708063747481, 0.08703882797784893, 0.04082482904638631, 0.11322770341445959, 0.10206207261596577, 0.058925565098878974, 0.11785113019775795, 0.0, 0.14433756729740646, 0.0, 0.18330889377669163, 0.4455663943395035, 0.0], [0.05212860351426869, 0.10114434748483472, 0.0, 0.0, 0.04662524041201569, 0.042562826537937436, 1.0, 0.05212860351426869, 0.0, 0.037450294313656915, 0.0, 0.07372097807744857, 0.09325048082403138, 0.0761386987626881, 0.0, 0.0, 0.1333662673423161, 0.05572782125753529, 0.042562826537937436, 0.03806934938134405, 0.3185110286353031, 0.053838190205816545, 0.049147318718299055, 0.07372097807744857, 0.10114434748483472, 0.04347826086956522, 0.606128125356204, 0.11420804814403214, 0.0, 0.0, 0.04662524041201569, 0.0, 0.14744195615489716, 0.26086956521739135, 0.0, 0.06286946134619315, 0.03940552031195503, 0.0, 0.0, 0.04089304100547654, 0.042562826537937436, 0.04347826086956522, 0.042562826537937436, 0.04550157551932901, 0.17782168978975482, 0.0, 0.05783149319662403, 0.0, 0.0, 0.18057877962865385, 0.0, 0.049147318718299055, 0.0, 0.0, 0.0, 0.0], [0.125, 0.06063390625908324, 0.1767766952966369, 0.12909944487358055, 0.05590169943749474, 0.15309310892394865, 0.05212860351426869, 1.0, 0.0625, 0.0, 0.12126781251816648, 0.0, 0.11180339887498948, 0.0, 0.19245008972987526, 0.1091089451179962, 0.053300179088902604, 0.0668153104781061, 0.15309310892394865, 0.18257418583505536, 0.0545544725589981, 0.0, 0.0, 0.17677669529663687, 0.0, 0.0, 0.05590169943749474, 0.09128709291752768, 0.0, 0.057353933467640436, 0.11180339887498948, 0.11785113019775793, 0.11785113019775793, 0.0, 0.0, 0.0, 0.0944911182523068, 0.0, 0.0, 0.04902903378454601, 0.15309310892394865, 0.1563858105428061, 0.10206207261596577, 0.1091089451179962, 0.053300179088902604, 0.0, 0.1386750490563073, 0.0625, 0.0, 0.14433756729740646, 0.0, 0.11785113019775793, 0.0, 0.0, 0.06063390625908324, 0.0], [0.3125, 0.0, 0.05892556509887897, 0.2581988897471611, 0.05590169943749474, 0.051031036307982884, 0.0, 0.0625, 1.0, 0.04490132550669373, 0.12126781251816648, 0.0, 0.0, 0.0, 0.14433756729740643, 0.1091089451179962, 0.0, 0.2004459314343183, 0.0, 0.13693063937629152, 0.0545544725589981, 0.0, 0.0, 0.0, 0.0, 0.0, 0.0, 0.0, 0.05892556509887897, 0.2867696673382022, 0.0, 0.11785113019775793, 0.0, 0.0, 0.057353933467640436, 0.07537783614444091, 0.0, 0.04902903378454601, 0.0, 0.0, 0.0, 0.0, 0.45927932677184596, 0.0, 0.0, 0.0, 0.0, 0.125, 0.0, 0.0, 0.0, 0.0, 0.3913118960624632, 0.0, 0.0, 0.07905694150420949], [0.04490132550669373, 0.04356068418690321, 0.4233337566673017, 0.0, 0.0, 0.0, 0.037450294313656915, 0.0, 0.04490132550669373, 1.0, 0.0, 0.31750031750047625, 0.0, 0.032791291789197645, 0.0, 0.2351585405008862, 0.0, 0.048001536073731935, 0.18330889377669166, 0.16395645894598823, 0.0, 0.046373889576016826, 0.0, 0.0, 0.04356068418690321, 0.0, 0.0, 0.032791291789197645, 0.0, 0.0, 0.04016096644512494, 0.254000254000381, 0.0, 0.0, 0.20602141085758227, 0.0, 0.03394221166510653, 0.0, 0.08240856434303291, 0.03522349768381735, 0.0, 0.0, 0.03666177875533833, 0.07838618016696206, 0.0, 0.0, 0.049813548138671795, 0.0, 0.31108550841912763, 0.05184758473652127, 0.0, 0.0, 0.0, 0.2580645161290323, 0.0, 0.0], [0.18190171877724973, 0.0, 0.17149858514250885, 0.43835700375960457, 0.05423261445466404, 0.04950737714883372, 0.0, 0.12126781251816648, 0.12126781251816648, 0.0, 1.0, 0.0, 0.05423261445466404, 0.0, 0.280056016805602, 0.15877683720748895, 0.0, 0.4537426064865151, 0.0, 0.17712297710801905, 0.05292561240249632, 0.0, 0.0, 0.17149858514250882, 0.0, 0.0, 0.10846522890932808, 0.0, 0.0, 0.22256595362986287, 0.0, 0.05716619504750295, 0.05716619504750295, 0.05057217374241736, 0.0, 0.0, 0.04583492485141056, 0.6183469424008423, 0.0, 0.04756514941544941, 0.04950737714883372, 0.05057217374241736, 0.24753688574416863, 0.0, 0.05170876899950191, 0.0, 0.06726727939963124, 0.18190171877724973, 0.0, 0.0700140042014005, 0.0, 0.1143323900950059, 0.0, 0.0, 0.058823529411764705, 0.0], [0.17677669529663687, 0.08574929257125441, 0.16666666666666666, 0.0, 0.07905694150420947, 0.0, 0.07372097807744857, 0.0, 0.0, 0.31750031750047625, 0.0, 0.9999999999999999, 0.0, 0.06454972243679027, 0.0, 0.23145502494313785, 0.0, 0.0944911182523068, 0.21650635094610968, 0.19364916731037082, 0.07715167498104596, 0.18257418583505533, 0.08333333333333333, 0.12499999999999997, 0.17149858514250882, 0.0, 0.0, 0.06454972243679027, 0.0, 0.0, 0.07905694150420947, 0.25, 0.0, 0.0, 0.0, 0.0, 0.06681531047810609, 0.0, 0.16222142113076252, 0.06933752452815364, 0.0, 0.0, 0.07216878364870323, 0.07715167498104596, 0.0, 0.0, 0.09805806756909201, 0.0, 0.5103103630798288, 0.10206207261596575, 0.11180339887498948, 0.0, 0.0, 0.254000254000381, 0.0, 0.11180339887498948], [0.0, 0.10846522890932808, 0.052704627669472995, 0.0, 0.3, 0.2738612787525831, 0.09325048082403138, 0.11180339887498948, 0.0, 0.0, 0.05423261445466404, 0.0, 1.0, 0.5307227776030219, 0.04303314829119352, 0.04879500364742666, 0.14301938838683884, 0.05976143046671968, 0.045643546458763846, 0.0, 0.14638501094227999, 0.0, 0.10540925533894599, 0.23717082451262841, 0.10846522890932808, 0.3730019232961255, 0.15, 0.1632993161855452, 0.0, 0.0512989176042577, 0.0, 0.0, 0.15811388300841897, 0.0, 0.0512989176042577, 0.13483997249264842, 0.1690308509457033, 0.08770580193070293, 0.0512989176042577, 0.0, 0.13693063937629155, 0.5595028849441883, 0.0, 0.04879500364742666, 0.04767312946227961, 0.044721359549995794, 0.0, 0.0, 0.06454972243679029, 0.12909944487358058, 0.0, 0.21081851067789195, 0.0, 0.20080483222562473, 0.21693045781865616, 0.0], [0.04564354645876384, 0.08856148855400953, 0.0, 0.0, 0.1632993161855452, 0.14907119849998599, 0.0761386987626881, 0.0, 0.0, 0.032791291789197645, 0.0, 0.06454972243679027, 0.5307227776030219, 0.9999999999999998, 0.0, 0.0, 0.03892494720807614, 0.04879500364742666, 0.037267799624996496, 0.033333333333333326, 0.03984095364447979, 0.04714045207910316, 0.04303314829119352, 0.06454972243679027, 0.08856148855400953, 0.19034674690672024, 0.0408248290463863, 0.09999999999999998, 0.0, 0.0, 0.0408248290463863, 0.0, 0.04303314829119352, 0.0, 0.0, 0.05504818825631803, 0.3795360576382948, 0.0, 0.0, 0.03580574370197164, 0.037267799624996496, 0.38069349381344053, 0.037267799624996496, 0.0, 0.0, 0.0, 0.05063696835418333, 0.0, 0.0, 0.10540925533894599, 0.0, 0.04303314829119352, 0.0, 0.32791291789197646, 0.04428074427700476, 0.0], [0.2886751345948129, 0.0, 0.2721655269759087, 0.2981423969999719, 0.0, 0.07856742013183862, 0.0, 0.19245008972987526, 0.14433756729740643, 0.0, 0.280056016805602, 0.0, 0.04303314829119352, 0.0, 1.0000000000000002, 0.16798421022632323, 0.041030496993110906, 0.3086066999241838, 0.03928371006591931, 0.42163702135578385, 0.0, 0.0, 0.04536092116265145, 0.06804138174397717, 0.0, 0.0, 0.04303314829119352, 0.0, 0.13608276348795437, 0.17660431427533915, 0.04303314829119352, 0.22680460581325726, 0.0907218423253029, 0.0, 0.04415107856883479, 0.0, 0.036369648372665396, 0.3774256780481987, 0.04415107856883479, 0.03774256780481986, 0.07856742013183862, 0.0, 0.23570226039551587, 0.12598815766974242, 0.08206099398622181, 0.03849001794597506, 0.05337605126836238, 0.33678765702728175, 0.055555555555555566, 0.055555555555555566, 0.060858061945018464, 0.0907218423253029, 0.0, 0.03456505649101418, 0.09335200560186732, 0.0], [0.1636634176769943, 0.0, 0.5143444998736397, 0.1126872339638022, 0.04879500364742666, 0.0, 0.0, 0.1091089451179962, 0.1091089451179962, 0.2351585405008862, 0.15877683720748895, 0.23145502494313785, 0.04879500364742666, 0.0, 0.16798421022632323, 1.0000000000000004, 0.0, 0.11664236870396087, 0.40089186286863665, 0.35856858280031806, 0.04761904761904762, 0.0, 0.0, 0.07715167498104596, 0.0, 0.0, 0.04879500364742666, 0.0, 0.0, 0.3003757045930553, 0.04879500364742666, 0.5657789498610039, 0.0, 0.0, 0.0, 0.0, 0.0, 0.08559209850218259, 0.15018785229652765, 0.0, 0.0, 0.04550157551932901, 0.222717701593687, 0.1904761904761905, 0.0, 0.0, 0.0, 0.0, 0.3779644730092273, 0.0, 0.0, 0.051434449987363975, 0.0, 0.2351585405008862, 0.0, 0.0], [0.0, 0.05170876899950191, 0.0, 0.0, 0.04767312946227961, 0.08703882797784893, 0.1333662673423161, 0.053300179088902604, 0.0, 0.0, 0.0, 0.0, 0.14301938838683884, 0.03892494720807614, 0.041030496993110906, 0.0, 0.9999999999999999, 0.05698028822981897, 0.04351941398892446, 0.0, 0.04652421051992354, 0.0, 0.050251890762960605, 0.0753778361444409, 0.15512630699850571, 0.044455422447438706, 0.04767312946227961, 0.07784989441615228, 0.0, 0.0, 0.0, 0.0, 0.15075567228888181, 0.0, 0.04891159880445184, 0.06428243465332249, 0.0, 0.04181210050035454, 0.04891159880445184, 0.29268470350248177, 0.08703882797784893, 0.044455422447438706, 0.0, 0.09304842103984708, 0.1818181818181818, 0.04264014327112209, 0.0, 0.0, 0.06154574548966637, 0.12309149097933274, 0.0, 0.10050378152592121, 0.0, 0.03829197905337418, 0.20683507599800763, 0.0674199862463242], [0.2672612419124244, 0.06482037235521644, 0.06299407883487121, 0.2760262237369417, 0.0, 0.054554472558998104, 0.05572782125753529, 0.0668153104781061, 0.2004459314343183, 0.048001536073731935, 0.4537426064865151, 0.0944911182523068, 0.05976143046671968, 0.04879500364742666, 0.3086066999241838, 0.11664236870396087, 0.05698028822981897, 0.9999999999999999, 0.10910894511799621, 0.19518001458970663, 0.0, 0.06900655593423542, 0.0, 0.0, 0.06482037235521644, 0.0, 0.0, 0.04879500364742666, 0.06299407883487121, 0.24525573579398632, 0.05976143046671968, 0.12598815766974242, 0.06299407883487121, 0.05572782125753529, 0.06131393394849658, 0.0, 0.050507627227610534, 0.2096569673443837, 0.06131393394849658, 0.05241424183609592, 0.054554472558998104, 0.0, 0.32732683535398865, 0.11664236870396087, 0.05698028822981897, 0.053452248382484885, 0.07412493166611013, 0.0, 0.07715167498104597, 0.07715167498104597, 0.0, 0.06299407883487121, 0.0, 0.048001536073731935, 0.06482037235521644, 0.0], [0.051031036307982884, 0.04950737714883372, 0.33678765702728175, 0.0, 0.0, 0.04166666666666668, 0.042562826537937436, 0.15309310892394865, 0.0, 0.18330889377669166, 0.0, 0.21650635094610968, 0.045643546458763846, 0.037267799624996496, 0.03928371006591931, 0.40089186286863665, 0.04351941398892446, 0.10910894511799621, 1.0000000000000002, 0.18633899812498247, 0.0, 0.05270462766947299, 0.04811252243246882, 0.0, 0.04950737714883372, 0.0, 0.0, 0.037267799624996496, 0.0, 0.0468292905790847, 0.045643546458763846, 0.4330127018922194, 0.04811252243246882, 0.0, 0.0468292905790847, 0.0, 0.03857583749052298, 0.04003203845127179, 0.1404878717372541, 0.04003203845127179, 0.04166666666666668, 0.0, 0.04166666666666668, 0.2672612419124244, 0.04351941398892446, 0.04082482904638631, 0.056613851707229795, 0.0, 0.35355339059327384, 0.058925565098878974, 0.0, 0.04811252243246882, 0.0, 0.18330889377669166, 0.04950737714883372, 0.0], [0.3195048252113469, 0.22140372138502382, 0.43033148291193524, 0.18856180831641264, 0.0, 0.037267799624996496, 0.03806934938134405, 0.18257418583505536, 0.13693063937629152, 0.16395645894598823, 0.17712297710801905, 0.19364916731037082, 0.0, 0.033333333333333326, 0.42163702135578385, 0.35856858280031806, 0.0, 0.19518001458970663, 0.18633899812498247, 0.9999999999999998, 0.15936381457791915, 0.04714045207910316, 0.0, 0.06454972243679027, 0.04428074427700476, 0.0, 0.0408248290463863, 0.033333333333333326, 0.04303314829119352, 0.20942695414584772, 0.0408248290463863, 0.38729833462074165, 0.04303314829119352, 0.0761386987626881, 0.0, 0.0, 0.06900655593423541, 0.0, 0.0837707816583391, 0.07161148740394328, 0.037267799624996496, 0.0, 0.2608745973749755, 0.07968190728895957, 0.03892494720807614, 0.0, 0.10127393670836667, 0.04564354645876384, 0.21081851067789198, 0.10540925533894599, 0.0, 0.04303314829119352, 0.0, 0.13116516715679058, 0.04428074427700476, 0.0], [0.0545544725589981, 0.10585122480499264, 0.051434449987363975, 0.0, 0.19518001458970666, 0.08908708063747481, 0.3185110286353031, 0.0545544725589981, 0.0545544725589981, 0.0, 0.05292561240249632, 0.07715167498104596, 0.14638501094227999, 0.03984095364447979, 0.0, 0.04761904761904762, 0.04652421051992354, 0.0, 0.0, 0.15936381457791915, 1.0000000000000002, 0.0563436169819011, 0.10286889997472795, 0.3086066999241838, 0.10585122480499264, 0.04550157551932901, 0.19518001458970666, 0.15936381457791915, 0.0, 0.10012523486435176, 0.09759000729485331, 0.0, 0.051434449987363975, 0.40951417967396114, 0.0, 0.0657951694959769, 0.041239304942116126, 0.08559209850218259, 0.0, 0.0, 0.13363062095621223, 0.13650472655798704, 0.044543540318737404, 0.0, 0.0, 0.17457431218879393, 0.060522753266880246, 0.0545544725589981, 0.0, 0.06299407883487121, 0.06900655593423542, 0.15430334996209194, 0.0, 0.0, 0.0, 0.06900655593423542], [0.12909944487358055, 0.06262242910851494, 0.06085806194501846, 0.0, 0.05773502691896257, 0.10540925533894598, 0.053838190205816545, 0.0, 0.0, 0.046373889576016826, 0.0, 0.18257418583505533, 0.0, 0.04714045207910316, 0.0, 0.0, 0.0, 0.06900655593423542, 0.05270462766947299, 0.04714045207910316, 0.0563436169819011, 0.9999999999999998, 0.18257418583505536, 0.09128709291752767, 0.12524485821702988, 0.0, 0.0, 0.09428090415820632, 0.0, 0.0, 0.05773502691896257, 0.0, 0.0, 0.0, 0.0, 0.0, 0.04879500364742665, 0.0, 0.0, 0.050636968354183326, 0.0, 0.0, 0.05270462766947299, 0.0, 0.0, 0.0, 0.07161148740394328, 0.0, 0.0, 0.07453559924999299, 0.0816496580927726, 0.0, 0.0, 0.0, 0.0, 0.0816496580927726], [0.0, 0.05716619504750295, 0.0, 0.06085806194501846, 0.10540925533894599, 0.0, 0.049147318718299055, 0.0, 0.0, 0.0, 0.0, 0.08333333333333333, 0.10540925533894599, 0.04303314829119352, 0.04536092116265145, 0.0, 0.050251890762960605, 0.0, 0.04811252243246882, 0.0, 0.10286889997472795, 0.18257418583505536, 1.0000000000000002, 0.16666666666666666, 0.1143323900950059, 0.049147318718299055, 0.052704627669472995, 0.08606629658238704, 0.0, 0.05407380704358751, 0.0, 0.0, 0.055555555555555566, 0.09829463743659811, 0.0, 0.07106690545187015, 0.0, 0.0, 0.0, 0.0, 0.5292377467571571, 0.049147318718299055, 0.0, 0.0, 0.0, 0.0, 0.0, 0.0, 0.0, 0.06804138174397718, 0.298142396999972, 0.055555555555555566, 0.0, 0.0, 0.0, 0.074535599249993], [0.08838834764831843, 0.17149858514250882, 0.16666666666666666, 0.09128709291752767, 0.3162277660168379, 0.14433756729740646, 0.07372097807744857, 0.17677669529663687, 0.0, 0.0, 0.17149858514250882, 0.12499999999999997, 0.23717082451262841, 0.06454972243679027, 0.06804138174397717, 0.07715167498104596, 0.0753778361444409, 0.0, 0.0, 0.06454972243679027, 0.3086066999241838, 0.09128709291752767, 0.16666666666666666, 0.9999999999999999, 0.17149858514250882, 0.14744195615489714, 0.23717082451262841, 0.2581988897471611, 0.0, 0.08111071056538126, 0.15811388300841894, 0.0, 0.16666666666666666, 0.0, 0.0, 0.10660035817780521, 0.13363062095621217, 0.06933752452815364, 0.0, 0.06933752452815364, 0.2886751345948129, 0.2211629342323457, 0.0, 0.07715167498104596, 0.0753778361444409, 0.0, 0.19611613513818402, 0.08838834764831843, 0.0, 0.2041241452319315, 0.22360679774997896, 0.41666666666666663, 0.0, 0.0, 0.08574929257125441, 0.11180339887498948], [0.06063390625908324, 0.11764705882352941, 0.0, 0.0, 0.10846522890932808, 0.0, 0.10114434748483472, 0.0, 0.0, 0.04356068418690321, 0.0, 0.17149858514250882, 0.10846522890932808, 0.08856148855400953, 0.0, 0.0, 0.15512630699850571, 0.06482037235521644, 0.04950737714883372, 0.04428074427700476, 0.10585122480499264, 0.12524485821702988, 0.1143323900950059, 0.17149858514250882, 1.0, 0.05057217374241736, 0.10846522890932808, 0.1328422328310143, 0.0, 0.0, 0.05423261445466404, 0.0, 0.5144957554275266, 0.0, 0.0, 0.07312724241271307, 0.04583492485141056, 0.0, 0.0, 0.28539089649269644, 0.04950737714883372, 0.05057217374241736, 0.04950737714883372, 0.0, 0.05170876899950191, 0.0, 0.06726727939963124, 0.0, 0.0, 0.140028008402801, 0.07669649888473705, 0.05716619504750295, 0.0, 0.0, 0.0, 0.1533929977694741], [0.0, 0.05057217374241736, 0.0, 0.0, 0.3263766828841098, 0.08512565307587487, 0.04347826086956522, 0.0, 0.0, 0.0, 0.0, 0.0, 0.3730019232961255, 0.19034674690672024, 0.0, 0.0, 0.044455422447438706, 0.0, 0.0, 0.0, 0.04550157551932901, 0.0, 0.049147318718299055, 0.14744195615489714, 0.05057217374241736, 1.0000000000000002, 0.04662524041201569, 0.0761386987626881, 0.0, 0.0, 0.0, 0.0, 0.049147318718299055, 0.0, 0.0, 0.06286946134619315, 0.07881104062391006, 0.0, 0.0, 0.0, 0.042562826537937436, 0.04347826086956522, 0.0, 0.04550157551932901, 0.0, 0.0, 0.0, 0.0, 0.0, 0.06019292654288461, 0.0, 0.09829463743659811, 0.0, 0.07490058862731383, 0.10114434748483472, 0.0], [0.05590169943749474, 0.05423261445466404, 0.10540925533894599, 0.05773502691896257, 0.09999999999999999, 0.045643546458763846, 0.606128125356204, 0.05590169943749474, 0.0, 0.0, 0.10846522890932808, 0.0, 0.15, 0.0408248290463863, 0.04303314829119352, 0.04879500364742666, 0.04767312946227961, 0.0, 0.0, 0.0408248290463863, 0.19518001458970666, 0.0, 0.052704627669472995, 0.23717082451262841, 0.10846522890932808, 0.04662524041201569, 1.0, 0.0816496580927726, 0.0, 0.0512989176042577, 0.0, 0.0, 0.10540925533894599, 0.0, 0.0, 0.06741998624632421, 0.042257712736425826, 0.043852900965351466, 0.0, 0.043852900965351466, 0.09128709291752769, 0.09325048082403138, 0.0, 0.0, 0.19069251784911845, 0.17888543819998318, 0.06201736729460423, 0.05590169943749474, 0.0, 0.12909944487358058, 0.0, 0.21081851067789195, 0.0, 0.0, 0.05423261445466404, 0.0], [0.09128709291752768, 0.22140372138502382, 0.04303314829119352, 0.0, 0.1632993161855452, 0.07453559924999299, 0.11420804814403214, 0.09128709291752768, 0.0, 0.032791291789197645, 0.0, 0.06454972243679027, 0.1632993161855452, 0.09999999999999998, 0.0, 0.0, 0.07784989441615228, 0.04879500364742666, 0.037267799624996496, 0.033333333333333326, 0.15936381457791915, 0.09428090415820632, 0.08606629658238704, 0.2581988897471611, 0.1328422328310143, 0.0761386987626881, 0.0816496580927726, 0.9999999999999998, 0.0, 0.0, 0.20412414523193148, 0.0, 0.08606629658238704, 0.0, 0.0, 0.11009637651263605, 0.10350983390135311, 0.0, 0.0, 0.03580574370197164, 0.223606797749979, 0.1522773975253762, 0.037267799624996496, 0.0, 0.0, 0.0, 0.15191090506255, 0.0, 0.0, 0.15811388300841897, 0.0, 0.17213259316477408, 0.0, 0.0, 0.0, 0.0], [0.0, 0.0, 0.0, 0.0, 0.0, 0.0, 0.0, 0.0, 0.05892556509887897, 0.0, 0.0, 0.0, 0.0, 0.0, 0.13608276348795437, 0.0, 0.0, 0.06299407883487121, 0.0, 0.04303314829119352, 0.0, 0.0, 0.0, 0.0, 0.0, 0.0, 0.0, 0.0, 1.0000000000000002, 0.0, 0.0, 0.11111111111111113, 0.0, 0.0, 0.0, 0.07106690545187015, 0.0, 0.04622501635210244, 0.0, 0.0, 0.0, 0.0, 0.0, 0.051434449987363975, 0.0, 0.0, 0.0, 0.05892556509887897, 0.0, 0.0, 0.0, 0.0, 0.052704627669472995, 0.0, 0.0, 0.074535599249993], [0.34412360080584264, 0.11128297681493143, 0.10814761408717502, 0.17770466332772766, 0.0512989176042577, 0.0468292905790847, 0.0, 0.057353933467640436, 0.2867696673382022, 0.0, 0.22256595362986287, 0.0, 0.0512989176042577, 0.0, 0.17660431427533915, 0.3003757045930553, 0.0, 0.24525573579398632, 0.0468292905790847, 0.20942695414584772, 0.10012523486435176, 0.0, 0.05407380704358751, 0.08111071056538126, 0.0, 0.0, 0.0512989176042577, 0.0, 0.0, 0.9999999999999994, 0.0512989176042577, 0.05407380704358751, 0.0, 0.09567297464698797, 0.0, 0.0, 0.0, 0.179968508266339, 0.0, 0.0, 0.0, 0.047836487323493986, 0.468292905790847, 0.0, 0.0, 0.0, 0.0, 0.11470786693528087, 0.0, 0.0, 0.0, 0.05407380704358751, 0.0, 0.0, 0.0, 0.0], [0.05590169943749474, 0.16269784336399212, 0.0, 0.0, 0.09999999999999999, 0.09128709291752769, 0.04662524041201569, 0.11180339887498948, 0.0, 0.04016096644512494, 0.0, 0.07905694150420947, 0.0, 0.0408248290463863, 0.04303314829119352, 0.04879500364742666, 0.0, 0.05976143046671968, 0.045643546458763846, 0.0408248290463863, 0.09759000729485331, 0.05773502691896257, 0.0, 0.15811388300841894, 0.05423261445466404, 0.0, 0.0, 0.20412414523193148, 0.0, 0.0512989176042577, 1.0, 0.0, 0.0, 0.0, 0.0, 0.0, 0.12677313820927746, 0.043852900965351466, 0.0, 0.043852900965351466, 0.18257418583505539, 0.09325048082403138, 0.045643546458763846, 0.0, 0.0, 0.0, 0.4341215710622296, 0.0, 0.0, 0.06454972243679029, 0.0, 0.10540925533894599, 0.0, 0.0, 0.0, 0.0], [0.05892556509887897, 0.0, 0.44444444444444453, 0.06085806194501846, 0.0, 0.0, 0.0, 0.11785113019775793, 0.11785113019775793, 0.254000254000381, 0.05716619504750295, 0.25, 0.0, 0.0, 0.22680460581325726, 0.5657789498610039, 0.0, 0.12598815766974242, 0.4330127018922194, 0.38729833462074165, 0.0, 0.0, 0.0, 0.0, 0.0, 0.0, 0.0, 0.0, 0.11111111111111113, 0.05407380704358751, 0.0, 1.0000000000000002, 0.0, 0.0, 0.0, 0.07106690545187015, 0.0, 0.0, 0.27036903521793754, 0.0, 0.0, 0.0, 0.09622504486493764, 0.4629100498862758, 0.0, 0.0, 0.0, 0.05892556509887897, 0.4082482904638631, 0.0, 0.0, 0.0, 0.052704627669472995, 0.254000254000381, 0.0, 0.074535599249993], [0.05892556509887897, 0.05716619504750295, 0.055555555555555566, 0.06085806194501846, 0.052704627669472995, 0.14433756729740646, 0.14744195615489716, 0.11785113019775793, 0.0, 0.0, 0.05716619504750295, 0.0, 0.15811388300841897, 0.04303314829119352, 0.0907218423253029, 0.0, 0.15075567228888181, 0.06299407883487121, 0.04811252243246882, 0.04303314829119352, 0.051434449987363975, 0.0, 0.055555555555555566, 0.16666666666666666, 0.5144957554275266, 0.049147318718299055, 0.10540925533894599, 0.08606629658238704, 0.0, 0.0, 0.0, 0.0, 1.0000000000000002, 0.0, 0.05407380704358751, 0.07106690545187015, 0.0445435403187374, 0.04622501635210244, 0.05407380704358751, 0.04622501635210244, 0.14433756729740646, 0.049147318718299055, 0.0, 0.10286889997472795, 0.20100756305184242, 0.047140452079103175, 0.06537204504606135, 0.05892556509887897, 0.06804138174397718, 0.20412414523193156, 0.0, 0.1666666666666667, 0.0, 0.04233337566673017, 0.1143323900950059, 0.0], [0.0, 0.10114434748483472, 0.0, 0.053838190205816545, 0.0, 0.0, 0.26086956521739135, 0.0, 0.0, 0.0, 0.05057217374241736, 0.0, 0.0, 0.0, 0.0, 0.0, 0.0, 0.05572782125753529, 0.0, 0.0761386987626881, 0.40951417967396114, 0.0, 0.09829463743659811, 0.0, 0.0, 0.0, 0.0, 0.0, 0.0, 0.09567297464698797, 0.0, 0.0, 0.0, 1.0000000000000002, 0.0, 0.0, 0.0, 0.0, 0.0, 0.0, 0.0, 0.0, 0.0, 0.0, 0.0, 0.0, 0.0, 0.0, 0.0, 0.0, 0.2637521893583148, 0.0, 0.0, 0.0, 0.0, 0.0], [0.0, 0.0, 0.05407380704358751, 0.0, 0.0, 0.0468292905790847, 0.0, 0.0, 0.057353933467640436, 0.20602141085758227, 0.0, 0.0, 0.0512989176042577, 0.0, 0.04415107856883479, 0.0, 0.04891159880445184, 0.06131393394849658, 0.0468292905790847, 0.0, 0.0, 0.0, 0.0, 0.0, 0.0, 0.0, 0.0, 0.0, 0.0, 0.0, 0.0, 0.0, 0.05407380704358751, 0.0, 0.9999999999999997, 0.0, 0.0, 0.04499212706658475, 0.10526315789473682, 0.0, 0.0468292905790847, 0.0, 0.0, 0.05006261743217588, 0.09782319760890368, 0.04588314677411235, 0.0, 0.0, 0.06622661785325219, 0.0, 0.0, 0.05407380704358751, 0.0, 0.12361284651454937, 0.05564148840746572, 0.0], [0.0, 0.07312724241271307, 0.0, 0.0, 0.06741998624632421, 0.0, 0.06286946134619315, 0.0, 0.07537783614444091, 0.0, 0.0, 0.0, 0.13483997249264842, 0.05504818825631803, 0.0, 0.0, 0.06428243465332249, 0.0, 0.0, 0.0, 0.0657951694959769, 0.0, 0.07106690545187015, 0.10660035817780521, 0.07312724241271307, 0.06286946134619315, 0.06741998624632421, 0.11009637651263605, 0.07106690545187015, 0.0, 0.0, 0.07106690545187015, 0.07106690545187015, 0.0, 0.0, 1.0000000000000002, 0.0, 0.0, 0.0, 0.0, 0.061545745489666376, 0.06286946134619315, 0.0, 0.0, 0.0, 0.0, 0.0, 0.07537783614444091, 0.0, 0.08703882797784893, 0.0, 0.07106690545187015, 0.06741998624632421, 0.0, 0.0, 0.09534625892455924], [0.0944911182523068, 0.09166984970282112, 0.0445435403187374, 0.04879500364742665, 0.1690308509457033, 0.27003086243366087, 0.03940552031195503, 0.0944911182523068, 0.0, 0.03394221166510653, 0.04583492485141056, 0.06681531047810609, 0.1690308509457033, 0.3795360576382948, 0.036369648372665396, 0.0, 0.0, 0.050507627227610534, 0.03857583749052298, 0.06900655593423541, 0.041239304942116126, 0.04879500364742665, 0.0, 0.13363062095621217, 0.04583492485141056, 0.07881104062391006, 0.042257712736425826, 0.10350983390135311, 0.0, 0.0, 0.12677313820927746, 0.0, 0.0445435403187374, 0.0, 0.0, 0.0, 0.9999999999999999, 0.0, 0.0, 0.07412493166611012, 0.11572751247156894, 0.3940552031195504, 0.03857583749052298, 0.0, 0.04029114820126901, 0.0, 0.15724272550828775, 0.0472455591261534, 0.0, 0.1091089451179962, 0.0, 0.0890870806374748, 0.0, 0.3394221166510653, 0.09166984970282112, 0.0], [0.04902903378454601, 0.0, 0.04622501635210244, 0.2025478734167333, 0.043852900965351466, 0.08006407690254358, 0.0, 0.0, 0.04902903378454601, 0.0, 0.6183469424008423, 0.0, 0.08770580193070293, 0.0, 0.3774256780481987, 0.08559209850218259, 0.04181210050035454, 0.2096569673443837, 0.04003203845127179, 0.0, 0.08559209850218259, 0.0, 0.0, 0.06933752452815364, 0.0, 0.0, 0.043852900965351466, 0.0, 0.04622501635210244, 0.179968508266339, 0.043852900965351466, 0.0, 0.04622501635210244, 0.0, 0.04499212706658475, 0.0, 0.0, 0.9999999999999999, 0.04499212706658475, 0.0, 0.04003203845127179, 0.04089304100547654, 0.08006407690254358, 0.042796049251091296, 0.04181210050035454, 0.03922322702763681, 0.0, 0.4902903378454601, 0.056613851707229795, 0.0, 0.0, 0.09245003270420488, 0.0, 0.03522349768381735, 0.04756514941544941, 0.0], [0.0, 0.0, 0.10814761408717502, 0.0, 0.0, 0.0468292905790847, 0.0, 0.0, 0.0, 0.08240856434303291, 0.0, 0.16222142113076252, 0.0512989176042577, 0.0, 0.04415107856883479, 0.15018785229652765, 0.04891159880445184, 0.06131393394849658, 0.1404878717372541, 0.0837707816583391, 0.0, 0.0, 0.0, 0.0, 0.0, 0.0, 0.0, 0.0, 0.0, 0.0, 0.0, 0.27036903521793754, 0.05407380704358751, 0.0, 0.10526315789473682, 0.0, 0.0, 0.04499212706658475, 0.9999999999999997, 0.0, 0.0468292905790847, 0.0, 0.0, 0.10012523486435176, 0.04891159880445184, 0.04588314677411235, 0.0, 0.0, 0.33113308926626095, 0.0, 0.0, 0.05407380704358751, 0.0, 0.12361284651454937, 0.05564148840746572, 0.0], [0.09805806756909202, 0.04756514941544941, 0.04622501635210244, 0.050636968354183326, 0.0, 0.04003203845127179, 0.04089304100547654, 0.04902903378454601, 0.0, 0.03522349768381735, 0.04756514941544941, 0.06933752452815364, 0.0, 0.03580574370197164, 0.03774256780481986, 0.0, 0.29268470350248177, 0.05241424183609592, 0.04003203845127179, 0.07161148740394328, 0.0, 0.050636968354183326, 0.0, 0.06933752452815364, 0.28539089649269644, 0.0, 0.043852900965351466, 0.03580574370197164, 0.0, 0.0, 0.043852900965351466, 0.0, 0.04622501635210244, 0.0, 0.0, 0.0, 0.07412493166611012, 0.0, 0.0, 1.0, 0.04003203845127179, 0.0, 0.04003203845127179, 0.0, 0.2090605025017727, 0.0, 0.10878565864408425, 0.04902903378454601, 0.0, 0.11322770341445959, 0.0, 0.04622501635210244, 0.0, 0.0, 0.14269544824634822, 0.1860521018838127], [0.051031036307982884, 0.14852213144650117, 0.04811252243246882, 0.05270462766947299, 0.13693063937629155, 0.1666666666666667, 0.042562826537937436, 0.15309310892394865, 0.0, 0.0, 0.04950737714883372, 0.0, 0.13693063937629155, 0.037267799624996496, 0.07856742013183862, 0.0, 0.08703882797784893, 0.054554472558998104, 0.04166666666666668, 0.037267799624996496, 0.13363062095621223, 0.0, 0.5292377467571571, 0.2886751345948129, 0.04950737714883372, 0.042562826537937436, 0.09128709291752769, 0.223606797749979, 0.0, 0.0, 0.18257418583505539, 0.0, 0.14433756729740646, 0.0, 0.0468292905790847, 0.061545745489666376, 0.11572751247156894, 0.04003203845127179, 0.0468292905790847, 0.04003203845127179, 1.0000000000000002, 0.1276884796138123, 0.0, 0.044543540318737404, 0.08703882797784893, 0.08164965809277262, 0.16984155512168939, 0.051031036307982884, 0.058925565098878974, 0.11785113019775795, 0.0, 0.24056261216234412, 0.0, 0.03666177875533833, 0.14852213144650117, 0.0], [0.0, 0.10114434748483472, 0.049147318718299055, 0.0, 0.13987572123604708, 0.42562826537937437, 0.04347826086956522, 0.1563858105428061, 0.0, 0.0, 0.05057217374241736, 0.0, 0.5595028849441883, 0.38069349381344053, 0.0, 0.04550157551932901, 0.044455422447438706, 0.0, 0.0, 0.0, 0.13650472655798704, 0.0, 0.049147318718299055, 0.2211629342323457, 0.05057217374241736, 0.04347826086956522, 0.09325048082403138, 0.1522773975253762, 0.0, 0.047836487323493986, 0.09325048082403138, 0.0, 0.049147318718299055, 0.0, 0.0, 0.06286946134619315, 0.3940552031195504, 0.04089304100547654, 0.0, 0.0, 0.1276884796138123, 1.0, 0.0, 0.0, 0.0, 0.0, 0.05783149319662403, 0.0, 0.0, 0.06019292654288461, 0.0, 0.14744195615489716, 0.0, 0.33705264882291225, 0.20228869496966945, 0.0], [0.3572172541558802, 0.04950737714883372, 0.09622504486493764, 0.26352313834736496, 0.045643546458763846, 0.04166666666666668, 0.042562826537937436, 0.10206207261596577, 0.45927932677184596, 0.03666177875533833, 0.24753688574416863, 0.07216878364870323, 0.0, 0.037267799624996496, 0.23570226039551587, 0.222717701593687, 0.0, 0.32732683535398865, 0.04166666666666668, 0.2608745973749755, 0.044543540318737404, 0.05270462766947299, 0.0, 0.0, 0.04950737714883372, 0.0, 0.0, 0.037267799624996496, 0.0, 0.468292905790847, 0.045643546458763846, 0.09622504486493764, 0.0, 0.0, 0.0, 0.0, 0.03857583749052298, 0.08006407690254358, 0.0, 0.04003203845127179, 0.0, 0.0, 1.0000000000000002, 0.0, 0.0, 0.0, 0.056613851707229795, 0.10206207261596577, 0.0, 0.058925565098878974, 0.0, 0.0, 0.0, 0.0, 0.0, 0.0], [0.0, 0.0, 0.15430334996209194, 0.0, 0.0, 0.08908708063747481, 0.04550157551932901, 0.1091089451179962, 0.0, 0.07838618016696206, 0.0, 0.07715167498104596, 0.04879500364742666, 0.0, 0.12598815766974242, 0.1904761904761905, 0.09304842103984708, 0.11664236870396087, 0.2672612419124244, 0.07968190728895957, 0.0, 0.0, 0.0, 0.07715167498104596, 0.0, 0.04550157551932901, 0.0, 0.0, 0.051434449987363975, 0.0, 0.0, 0.4629100498862758, 0.10286889997472795, 0.0, 0.05006261743217588, 0.0, 0.0, 0.042796049251091296, 0.10012523486435176, 0.0, 0.044543540318737404, 0.0, 0.0, 1.0000000000000002, 0.04652421051992354, 0.043643578047198484, 0.0, 0.0, 0.18898223650461363, 0.06299407883487121, 0.0, 0.10286889997472795, 0.0, 0.11757927025044308, 0.05292561240249632, 0.0], [0.053300179088902604, 0.0, 0.050251890762960605, 0.05504818825631802, 0.0, 0.08703882797784893, 0.17782168978975482, 0.053300179088902604, 0.0, 0.0, 0.05170876899950191, 0.0, 0.04767312946227961, 0.0, 0.08206099398622181, 0.0, 0.1818181818181818, 0.05698028822981897, 0.04351941398892446, 0.03892494720807614, 0.0, 0.0, 0.0, 0.0753778361444409, 0.05170876899950191, 0.0, 0.19069251784911845, 0.0, 0.0, 0.0, 0.0, 0.0, 0.20100756305184242, 0.0, 0.09782319760890368, 0.0, 0.04029114820126901, 0.04181210050035454, 0.04891159880445184, 0.2090605025017727, 0.08703882797784893, 0.0, 0.0, 0.04652421051992354, 0.9999999999999998, 0.04264014327112209, 0.05913123959890826, 0.053300179088902604, 0.06154574548966637, 0.06154574548966637, 0.0, 0.15075567228888181, 0.0, 0.07658395810674835, 0.20683507599800763, 0.0], [0.0, 0.0, 0.0, 0.0, 0.0, 0.04082482904638631, 0.0, 0.0, 0.0, 0.0, 0.0, 0.0, 0.044721359549995794, 0.0, 0.03849001794597506, 0.0, 0.04264014327112209, 0.053452248382484885, 0.04082482904638631, 0.0, 0.17457431218879393, 0.0, 0.0, 0.0, 0.0, 0.0, 0.17888543819998318, 0.0, 0.0, 0.0, 0.0, 0.0, 0.047140452079103175, 0.0, 0.04588314677411235, 0.0, 0.0, 0.03922322702763681, 0.04588314677411235, 0.0, 0.08164965809277262, 0.0, 0.0, 0.043643578047198484, 0.04264014327112209, 1.0, 0.0, 0.0, 0.05773502691896259, 0.0, 0.0, 0.047140452079103175, 0.0, 0.03592106040535498, 0.09701425001453319, 0.0], [0.1386750490563073, 0.1345345587992625, 0.06537204504606135, 0.07161148740394328, 0.06201736729460423, 0.11322770341445959, 0.05783149319662403, 0.1386750490563073, 0.0, 0.049813548138671795, 0.06726727939963124, 0.09805806756909201, 0.0, 0.05063696835418333, 0.05337605126836238, 0.0, 0.0, 0.07412493166611013, 0.056613851707229795, 0.10127393670836667, 0.060522753266880246, 0.07161148740394328, 0.0, 0.19611613513818402, 0.06726727939963124, 0.0, 0.06201736729460423, 0.15191090506255, 0.0, 0.0, 0.4341215710622296, 0.0, 0.06537204504606135, 0.0, 0.0, 0.0, 0.15724272550828775, 0.0, 0.0, 0.10878565864408425, 0.16984155512168939, 0.05783149319662403, 0.056613851707229795, 0.0, 0.05913123959890826, 0.0, 1.0000000000000004, 0.06933752452815364, 0.0, 0.16012815380508716, 0.0, 0.1307440900921227, 0.0, 0.0, 0.06726727939963124, 0.0], [0.125, 0.0, 0.05892556509887897, 0.19364916731037082, 0.0, 0.10206207261596577, 0.0, 0.0625, 0.125, 0.0, 0.18190171877724973, 0.0, 0.0, 0.0, 0.33678765702728175, 0.0, 0.0, 0.0, 0.0, 0.04564354645876384, 0.0545544725589981, 0.0, 0.0, 0.08838834764831843, 0.0, 0.0, 0.05590169943749474, 0.0, 0.05892556509887897, 0.11470786693528087, 0.0, 0.05892556509887897, 0.05892556509887897, 0.0, 0.0, 0.07537783614444091, 0.0472455591261534, 0.4902903378454601, 0.0, 0.04902903378454601, 0.051031036307982884, 0.0, 0.10206207261596577, 0.0, 0.053300179088902604, 0.0, 0.06933752452815364, 1.0, 0.0, 0.07216878364870323, 0.0, 0.05892556509887897, 0.05590169943749474, 0.0, 0.06063390625908324, 0.07905694150420949], [0.0, 0.0, 0.27216552697590873, 0.0, 0.0, 0.058925565098878974, 0.0, 0.0, 0.0, 0.31108550841912763, 0.0, 0.5103103630798288, 0.06454972243679029, 0.0, 0.055555555555555566, 0.3779644730092273, 0.06154574548966637, 0.07715167498104597, 0.35355339059327384, 0.21081851067789198, 0.0, 0.0, 0.0, 0.0, 0.0, 0.0, 0.0, 0.0, 0.0, 0.0, 0.0, 0.4082482904638631, 0.06804138174397718, 0.0, 0.06622661785325219, 0.0, 0.0, 0.056613851707229795, 0.33113308926626095, 0.0, 0.058925565098878974, 0.0, 0.0, 0.18898223650461363, 0.06154574548966637, 0.05773502691896259, 0.0, 0.0, 1.0000000000000002, 0.0, 0.0, 0.06804138174397718, 0.0, 0.36293309315564887, 0.0700140042014005, 0.0], [0.14433756729740646, 0.140028008402801, 0.06804138174397718, 0.07453559924999299, 0.06454972243679029, 0.11785113019775795, 0.18057877962865385, 0.14433756729740646, 0.0, 0.05184758473652127, 0.0700140042014005, 0.10206207261596575, 0.12909944487358058, 0.10540925533894599, 0.055555555555555566, 0.0, 0.12309149097933274, 0.07715167498104597, 0.058925565098878974, 0.10540925533894599, 0.06299407883487121, 0.07453559924999299, 0.06804138174397718, 0.2041241452319315, 0.140028008402801, 0.06019292654288461, 0.12909944487358058, 0.15811388300841897, 0.0, 0.0, 0.06454972243679029, 0.0, 0.20412414523193156, 0.0, 0.0, 0.08703882797784893, 0.1091089451179962, 0.0, 0.0, 0.11322770341445959, 0.11785113019775795, 0.06019292654288461, 0.058925565098878974, 0.06299407883487121, 0.06154574548966637, 0.0, 0.16012815380508716, 0.07216878364870323, 0.0, 1.0000000000000002, 0.0, 0.13608276348795437, 0.0, 0.0, 0.0700140042014005, 0.0], [0.0, 0.0, 0.0, 0.0816496580927726, 0.07071067811865475, 0.0, 0.0, 0.0, 0.0, 0.0, 0.0, 0.11180339887498948, 0.0, 0.0, 0.060858061945018464, 0.0, 0.0, 0.0, 0.0, 0.0, 0.06900655593423542, 0.0816496580927726, 0.298142396999972, 0.22360679774997896, 0.07669649888473705, 0.0, 0.0, 0.0, 0.0, 0.0, 0.0, 0.0, 0.0, 0.2637521893583148, 0.0, 0.0, 0.0, 0.0, 0.0, 0.0, 0.0, 0.0, 0.0, 0.0, 0.0, 0.0, 0.0, 0.0, 0.0, 0.0, 0.9999999999999999, 0.0, 0.0, 0.0, 0.0, 0.1], [0.05892556509887897, 0.2286647801900118, 0.11111111111111113, 0.06085806194501846, 0.15811388300841897, 0.14433756729740646, 0.049147318718299055, 0.11785113019775793, 0.0, 0.0, 0.1143323900950059, 0.0, 0.21081851067789195, 0.04303314829119352, 0.0907218423253029, 0.051434449987363975, 0.10050378152592121, 0.06299407883487121, 0.04811252243246882, 0.04303314829119352, 0.15430334996209194, 0.0, 0.055555555555555566, 0.41666666666666663, 0.05716619504750295, 0.09829463743659811, 0.21081851067789195, 0.17213259316477408, 0.0, 0.05407380704358751, 0.10540925533894599, 0.0, 0.1666666666666667, 0.0, 0.05407380704358751, 0.07106690545187015, 0.0890870806374748, 0.09245003270420488, 0.05407380704358751, 0.04622501635210244, 0.24056261216234412, 0.14744195615489716, 0.0, 0.10286889997472795, 0.15075567228888181, 0.047140452079103175, 0.1307440900921227, 0.05892556509887897, 0.06804138174397718, 0.13608276348795437, 0.0, 1.0000000000000002, 0.0, 0.04233337566673017, 0.1143323900950059, 0.0], [0.0, 0.0, 0.0, 0.1732050807568877, 0.0, 0.0, 0.0, 0.0, 0.3913118960624632, 0.0, 0.0, 0.0, 0.0, 0.0, 0.0, 0.0, 0.0, 0.0, 0.0, 0.0, 0.0, 0.0, 0.0, 0.0, 0.0, 0.0, 0.0, 0.0, 0.052704627669472995, 0.0, 0.0, 0.052704627669472995, 0.0, 0.0, 0.0, 0.06741998624632421, 0.0, 0.0, 0.0, 0.0, 0.0, 0.0, 0.0, 0.0, 0.0, 0.0, 0.0, 0.05590169943749474, 0.0, 0.0, 0.0, 0.0, 1.0000000000000002, 0.0, 0.0, 0.07071067811865475], [0.0, 0.0, 0.16933350266692068, 0.0, 0.12048289933537484, 0.18330889377669163, 0.0, 0.0, 0.0, 0.2580645161290323, 0.0, 0.254000254000381, 0.20080483222562473, 0.32791291789197646, 0.03456505649101418, 0.2351585405008862, 0.03829197905337418, 0.048001536073731935, 0.18330889377669166, 0.13116516715679058, 0.0, 0.0, 0.0, 0.0, 0.0, 0.07490058862731383, 0.0, 0.0, 0.0, 0.0, 0.0, 0.254000254000381, 0.04233337566673017, 0.0, 0.12361284651454937, 0.0, 0.3394221166510653, 0.03522349768381735, 0.12361284651454937, 0.0, 0.03666177875533833, 0.33705264882291225, 0.0, 0.11757927025044308, 0.07658395810674835, 0.03592106040535498, 0.0, 0.0, 0.36293309315564887, 0.0, 0.0, 0.04233337566673017, 0.0, 0.9999999999999999, 0.08712136837380642, 0.0], [0.06063390625908324, 0.0, 0.05716619504750295, 0.06262242910851494, 0.16269784336399212, 0.4455663943395035, 0.0, 0.06063390625908324, 0.0, 0.0, 0.058823529411764705, 0.0, 0.21693045781865616, 0.04428074427700476, 0.09335200560186732, 0.0, 0.20683507599800763, 0.06482037235521644, 0.04950737714883372, 0.04428074427700476, 0.0, 0.0, 0.0, 0.08574929257125441, 0.0, 0.10114434748483472, 0.05423261445466404, 0.0, 0.0, 0.0, 0.0, 0.0, 0.1143323900950059, 0.0, 0.05564148840746572, 0.0, 0.09166984970282112, 0.04756514941544941, 0.05564148840746572, 0.14269544824634822, 0.14852213144650117, 0.20228869496966945, 0.0, 0.05292561240249632, 0.20683507599800763, 0.09701425001453319, 0.06726727939963124, 0.06063390625908324, 0.0700140042014005, 0.0700140042014005, 0.0, 0.1143323900950059, 0.0, 0.08712136837380642, 0.9999999999999999, 0.0], [0.0, 0.0, 0.0, 0.0, 0.07071067811865475, 0.0, 0.0, 0.0, 0.07905694150420949, 0.0, 0.0, 0.11180339887498948, 0.0, 0.0, 0.0, 0.0, 0.0674199862463242, 0.0, 0.0, 0.0, 0.06900655593423542, 0.0816496580927726, 0.074535599249993, 0.11180339887498948, 0.1533929977694741, 0.0, 0.0, 0.0, 0.074535599249993, 0.0, 0.0, 0.074535599249993, 0.0, 0.0, 0.0, 0.09534625892455924, 0.0, 0.0, 0.0, 0.1860521018838127, 0.0, 0.0, 0.0, 0.0, 0.0, 0.0, 0.0, 0.07905694150420949, 0.0, 0.0, 0.1, 0.0, 0.07071067811865475, 0.0, 0.0, 0.9999999999999999]]\n"
     ]
    }
   ],
   "source": [
    "a = similarity.tolist()\n",
    "print(a)"
   ]
  },
  {
   "cell_type": "code",
   "execution_count": 48,
   "metadata": {},
   "outputs": [],
   "source": [
    "with open(\"similarity.json\", \"w\") as similarity:\n",
    "    json.dump(a, similarity, indent=4)"
   ]
  },
  {
   "cell_type": "code",
   "execution_count": 49,
   "metadata": {},
   "outputs": [
    {
     "name": "stdout",
     "output_type": "stream",
     "text": [
      "Pickle file converted to JSON\n"
     ]
    }
   ],
   "source": [
    "import pickle\n",
    "import json\n",
    "import numpy as np  # If your data includes NumPy arrays\n",
    "\n",
    "# Load the Pickle file\n",
    "with open(\"similarity.pkl\", \"rb\") as file:\n",
    "    data = pickle.load(file)\n",
    "\n",
    "# If the data contains NumPy arrays, convert them to lists\n",
    "if isinstance(data, np.ndarray):\n",
    "    data = data.tolist()\n",
    "\n",
    "# Save as JSON\n",
    "with open(\"similarity.json\", \"w\") as similarity:\n",
    "    json.dump(data, similarity, indent=4)\n",
    "\n",
    "print(\"Pickle file converted to JSON\")\n"
   ]
  },
  {
   "cell_type": "code",
   "execution_count": 50,
   "metadata": {},
   "outputs": [
    {
     "name": "stdout",
     "output_type": "stream",
     "text": [
      "<_io.TextIOWrapper name='similarity.json' mode='w' encoding='cp1252'>\n"
     ]
    }
   ],
   "source": [
    "print(similarity)"
   ]
  },
  {
   "cell_type": "code",
   "execution_count": 51,
   "metadata": {},
   "outputs": [],
   "source": [
    "with open(\"courses.json\", \"w\") as json_file:\n",
    "    json.dump(new_data, json_file)"
   ]
  },
  {
   "cell_type": "code",
   "execution_count": 52,
   "metadata": {},
   "outputs": [
    {
     "name": "stdout",
     "output_type": "stream",
     "text": [
      "[[1.0, 0.06063390625908324, 0.2946278254943948, 0.32274861218395134, 0.0, 0.10206207261596577, 0.05212860351426869, 0.125, 0.3125, 0.04490132550669373, 0.18190171877724973, 0.17677669529663687, 0.0, 0.04564354645876384, 0.2886751345948129, 0.1636634176769943, 0.0, 0.2672612419124244, 0.051031036307982884, 0.3195048252113469, 0.0545544725589981, 0.12909944487358055, 0.0, 0.08838834764831843, 0.06063390625908324, 0.0, 0.05590169943749474, 0.09128709291752768, 0.0, 0.34412360080584264, 0.05590169943749474, 0.05892556509887897, 0.05892556509887897, 0.0, 0.10660035817780521, 0.0, 0.0, 0.053300179088902604, 0.0, 0.0944911182523068, 0.04902903378454601, 0.0, 0.09805806756909202, 0.051031036307982884, 0.0, 0.3572172541558802, 0.0, 0.053300179088902604, 0.0, 0.1386750490563073, 0.125, 0.0, 0.14433756729740646, 0.0, 0.05892556509887897, 0.0, 0.0, 0.06063390625908324, 0.0], [0.06063390625908324, 1.0, 0.1143323900950059, 0.0, 0.21693045781865616, 0.14852213144650117, 0.10114434748483472, 0.06063390625908324, 0.0, 0.04356068418690321, 0.0, 0.08574929257125441, 0.10846522890932808, 0.08856148855400953, 0.0, 0.0, 0.05170876899950191, 0.06482037235521644, 0.04950737714883372, 0.22140372138502382, 0.10585122480499264, 0.06262242910851494, 0.05716619504750295, 0.17149858514250882, 0.11764705882352941, 0.05057217374241736, 0.05423261445466404, 0.22140372138502382, 0.0, 0.11128297681493143, 0.16269784336399212, 0.0, 0.05716619504750295, 0.10114434748483472, 0.10341753799900381, 0.0, 0.0, 0.10341753799900381, 0.07312724241271307, 0.09166984970282112, 0.0, 0.0, 0.04756514941544941, 0.14852213144650117, 0.10114434748483472, 0.04950737714883372, 0.0, 0.0, 0.0, 0.1345345587992625, 0.0, 0.0, 0.140028008402801, 0.0, 0.2286647801900118, 0.0, 0.0, 0.0, 0.0], [0.2946278254943948, 0.1143323900950059, 1.0000000000000002, 0.12171612389003691, 0.052704627669472995, 0.04811252243246882, 0.0, 0.1767766952966369, 0.05892556509887897, 0.4233337566673017, 0.17149858514250885, 0.16666666666666666, 0.052704627669472995, 0.0, 0.2721655269759087, 0.5143444998736397, 0.0, 0.06299407883487121, 0.33678765702728175, 0.43033148291193524, 0.051434449987363975, 0.06085806194501846, 0.0, 0.16666666666666666, 0.0, 0.0, 0.10540925533894599, 0.04303314829119352, 0.0, 0.10814761408717502, 0.0, 0.44444444444444453, 0.055555555555555566, 0.0, 0.050251890762960605, 0.0, 0.05407380704358751, 0.0, 0.0, 0.0445435403187374, 0.04622501635210244, 0.10814761408717502, 0.04622501635210244, 0.04811252243246882, 0.049147318718299055, 0.09622504486493764, 0.15430334996209194, 0.050251890762960605, 0.0, 0.06537204504606135, 0.05892556509887897, 0.27216552697590873, 0.06804138174397718, 0.0, 0.11111111111111113, 0.0, 0.16933350266692068, 0.05716619504750295, 0.0], [0.32274861218395134, 0.0, 0.12171612389003691, 0.9999999999999998, 0.0, 0.05270462766947299, 0.0, 0.12909944487358055, 0.2581988897471611, 0.0, 0.43835700375960457, 0.0, 0.0, 0.0, 0.2981423969999719, 0.1126872339638022, 0.0, 0.2760262237369417, 0.0, 0.18856180831641264, 0.0, 0.0, 0.06085806194501846, 0.09128709291752767, 0.0, 0.0, 0.05773502691896257, 0.0, 0.0, 0.17770466332772766, 0.0, 0.06085806194501846, 0.06085806194501846, 0.053838190205816545, 0.05504818825631802, 0.29814239699997197, 0.0, 0.0, 0.0, 0.04879500364742665, 0.2025478734167333, 0.0, 0.050636968354183326, 0.05270462766947299, 0.0, 0.26352313834736496, 0.0, 0.05504818825631802, 0.0, 0.07161148740394328, 0.19364916731037082, 0.0, 0.07453559924999299, 0.0816496580927726, 0.06085806194501846, 0.1732050807568877, 0.0, 0.06262242910851494, 0.0], [0.0, 0.21693045781865616, 0.052704627669472995, 0.0, 1.0, 0.2738612787525831, 0.04662524041201569, 0.05590169943749474, 0.05590169943749474, 0.0, 0.05423261445466404, 0.07905694150420947, 0.3, 0.1632993161855452, 0.0, 0.04879500364742666, 0.04767312946227961, 0.0, 0.0, 0.0, 0.19518001458970666, 0.05773502691896257, 0.10540925533894599, 0.3162277660168379, 0.10846522890932808, 0.3263766828841098, 0.09999999999999999, 0.1632993161855452, 0.0, 0.0512989176042577, 0.09999999999999999, 0.0, 0.052704627669472995, 0.0, 0.04767312946227961, 0.0, 0.0, 0.04767312946227961, 0.06741998624632421, 0.1690308509457033, 0.043852900965351466, 0.0, 0.0, 0.13693063937629155, 0.13987572123604708, 0.045643546458763846, 0.0, 0.0, 0.0, 0.06201736729460423, 0.0, 0.0, 0.06454972243679029, 0.07071067811865475, 0.15811388300841897, 0.0, 0.12048289933537484, 0.16269784336399212, 0.07071067811865475], [0.10206207261596577, 0.14852213144650117, 0.04811252243246882, 0.05270462766947299, 0.2738612787525831, 1.0000000000000002, 0.042562826537937436, 0.15309310892394865, 0.051031036307982884, 0.0, 0.04950737714883372, 0.0, 0.2738612787525831, 0.14907119849998599, 0.07856742013183862, 0.0, 0.08703882797784893, 0.054554472558998104, 0.04166666666666668, 0.037267799624996496, 0.08908708063747481, 0.10540925533894598, 0.0, 0.14433756729740646, 0.0, 0.08512565307587487, 0.045643546458763846, 0.07453559924999299, 0.0, 0.0468292905790847, 0.09128709291752769, 0.0, 0.14433756729740646, 0.0, 0.13055824196677338, 0.0, 0.0468292905790847, 0.08703882797784893, 0.0, 0.27003086243366087, 0.08006407690254358, 0.0468292905790847, 0.04003203845127179, 0.1666666666666667, 0.42562826537937437, 0.04166666666666668, 0.08908708063747481, 0.08703882797784893, 0.04082482904638631, 0.11322770341445959, 0.10206207261596577, 0.058925565098878974, 0.11785113019775795, 0.0, 0.14433756729740646, 0.0, 0.18330889377669163, 0.4455663943395035, 0.0], [0.05212860351426869, 0.10114434748483472, 0.0, 0.0, 0.04662524041201569, 0.042562826537937436, 1.0, 0.05212860351426869, 0.0, 0.037450294313656915, 0.0, 0.07372097807744857, 0.09325048082403138, 0.0761386987626881, 0.0, 0.0, 0.1333662673423161, 0.05572782125753529, 0.042562826537937436, 0.03806934938134405, 0.3185110286353031, 0.053838190205816545, 0.049147318718299055, 0.07372097807744857, 0.10114434748483472, 0.04347826086956522, 0.606128125356204, 0.11420804814403214, 0.0, 0.0, 0.04662524041201569, 0.0, 0.14744195615489716, 0.26086956521739135, 0.08891084489487741, 0.0, 0.0, 0.1333662673423161, 0.06286946134619315, 0.03940552031195503, 0.0, 0.0, 0.04089304100547654, 0.042562826537937436, 0.04347826086956522, 0.042562826537937436, 0.04550157551932901, 0.17782168978975482, 0.0, 0.05783149319662403, 0.0, 0.0, 0.18057877962865385, 0.0, 0.049147318718299055, 0.0, 0.0, 0.0, 0.0], [0.125, 0.06063390625908324, 0.1767766952966369, 0.12909944487358055, 0.05590169943749474, 0.15309310892394865, 0.05212860351426869, 1.0, 0.0625, 0.0, 0.12126781251816648, 0.0, 0.11180339887498948, 0.0, 0.19245008972987526, 0.1091089451179962, 0.053300179088902604, 0.0668153104781061, 0.15309310892394865, 0.18257418583505536, 0.0545544725589981, 0.0, 0.0, 0.17677669529663687, 0.0, 0.0, 0.05590169943749474, 0.09128709291752768, 0.0, 0.057353933467640436, 0.11180339887498948, 0.11785113019775793, 0.11785113019775793, 0.0, 0.1599005372667078, 0.0, 0.0, 0.053300179088902604, 0.0, 0.0944911182523068, 0.0, 0.0, 0.04902903378454601, 0.15309310892394865, 0.1563858105428061, 0.10206207261596577, 0.1091089451179962, 0.053300179088902604, 0.0, 0.1386750490563073, 0.0625, 0.0, 0.14433756729740646, 0.0, 0.11785113019775793, 0.0, 0.0, 0.06063390625908324, 0.0], [0.3125, 0.0, 0.05892556509887897, 0.2581988897471611, 0.05590169943749474, 0.051031036307982884, 0.0, 0.0625, 1.0, 0.04490132550669373, 0.12126781251816648, 0.0, 0.0, 0.0, 0.14433756729740643, 0.1091089451179962, 0.0, 0.2004459314343183, 0.0, 0.13693063937629152, 0.0545544725589981, 0.0, 0.0, 0.0, 0.0, 0.0, 0.0, 0.0, 0.05892556509887897, 0.2867696673382022, 0.0, 0.11785113019775793, 0.0, 0.0, 0.0, 0.14433756729740646, 0.057353933467640436, 0.0, 0.07537783614444091, 0.0, 0.04902903378454601, 0.0, 0.0, 0.0, 0.0, 0.45927932677184596, 0.0, 0.0, 0.0, 0.0, 0.125, 0.0, 0.0, 0.0, 0.0, 0.3913118960624632, 0.0, 0.0, 0.07905694150420949], [0.04490132550669373, 0.04356068418690321, 0.4233337566673017, 0.0, 0.0, 0.0, 0.037450294313656915, 0.0, 0.04490132550669373, 1.0, 0.0, 0.31750031750047625, 0.0, 0.032791291789197645, 0.0, 0.2351585405008862, 0.0, 0.048001536073731935, 0.18330889377669166, 0.16395645894598823, 0.0, 0.046373889576016826, 0.0, 0.0, 0.04356068418690321, 0.0, 0.0, 0.032791291789197645, 0.0, 0.0, 0.04016096644512494, 0.254000254000381, 0.0, 0.0, 0.03829197905337418, 0.0, 0.20602141085758227, 0.03829197905337418, 0.0, 0.03394221166510653, 0.0, 0.08240856434303291, 0.03522349768381735, 0.0, 0.0, 0.03666177875533833, 0.07838618016696206, 0.0, 0.0, 0.049813548138671795, 0.0, 0.31108550841912763, 0.05184758473652127, 0.0, 0.0, 0.0, 0.2580645161290323, 0.0, 0.0], [0.18190171877724973, 0.0, 0.17149858514250885, 0.43835700375960457, 0.05423261445466404, 0.04950737714883372, 0.0, 0.12126781251816648, 0.12126781251816648, 0.0, 1.0, 0.0, 0.05423261445466404, 0.0, 0.280056016805602, 0.15877683720748895, 0.0, 0.4537426064865151, 0.0, 0.17712297710801905, 0.05292561240249632, 0.0, 0.0, 0.17149858514250882, 0.0, 0.0, 0.10846522890932808, 0.0, 0.0, 0.22256595362986287, 0.0, 0.05716619504750295, 0.05716619504750295, 0.05057217374241736, 0.05170876899950191, 0.0, 0.0, 0.0, 0.0, 0.04583492485141056, 0.6183469424008423, 0.0, 0.04756514941544941, 0.04950737714883372, 0.05057217374241736, 0.24753688574416863, 0.0, 0.05170876899950191, 0.0, 0.06726727939963124, 0.18190171877724973, 0.0, 0.0700140042014005, 0.0, 0.1143323900950059, 0.0, 0.0, 0.058823529411764705, 0.0], [0.17677669529663687, 0.08574929257125441, 0.16666666666666666, 0.0, 0.07905694150420947, 0.0, 0.07372097807744857, 0.0, 0.0, 0.31750031750047625, 0.0, 0.9999999999999999, 0.0, 0.06454972243679027, 0.0, 0.23145502494313785, 0.0, 0.0944911182523068, 0.21650635094610968, 0.19364916731037082, 0.07715167498104596, 0.18257418583505533, 0.08333333333333333, 0.12499999999999997, 0.17149858514250882, 0.0, 0.0, 0.06454972243679027, 0.0, 0.0, 0.07905694150420947, 0.25, 0.0, 0.0, 0.0753778361444409, 0.0, 0.0, 0.0753778361444409, 0.0, 0.06681531047810609, 0.0, 0.16222142113076252, 0.06933752452815364, 0.0, 0.0, 0.07216878364870323, 0.07715167498104596, 0.0, 0.0, 0.09805806756909201, 0.0, 0.5103103630798288, 0.10206207261596575, 0.11180339887498948, 0.0, 0.0, 0.254000254000381, 0.0, 0.11180339887498948], [0.0, 0.10846522890932808, 0.052704627669472995, 0.0, 0.3, 0.2738612787525831, 0.09325048082403138, 0.11180339887498948, 0.0, 0.0, 0.05423261445466404, 0.0, 1.0, 0.5307227776030219, 0.04303314829119352, 0.04879500364742666, 0.14301938838683884, 0.05976143046671968, 0.045643546458763846, 0.0, 0.14638501094227999, 0.0, 0.10540925533894599, 0.23717082451262841, 0.10846522890932808, 0.3730019232961255, 0.15, 0.1632993161855452, 0.0, 0.0512989176042577, 0.0, 0.0, 0.15811388300841897, 0.0, 0.0, 0.0, 0.0512989176042577, 0.14301938838683884, 0.13483997249264842, 0.1690308509457033, 0.08770580193070293, 0.0512989176042577, 0.0, 0.13693063937629155, 0.5595028849441883, 0.0, 0.04879500364742666, 0.04767312946227961, 0.044721359549995794, 0.0, 0.0, 0.06454972243679029, 0.12909944487358058, 0.0, 0.21081851067789195, 0.0, 0.20080483222562473, 0.21693045781865616, 0.0], [0.04564354645876384, 0.08856148855400953, 0.0, 0.0, 0.1632993161855452, 0.14907119849998599, 0.0761386987626881, 0.0, 0.0, 0.032791291789197645, 0.0, 0.06454972243679027, 0.5307227776030219, 0.9999999999999998, 0.0, 0.0, 0.03892494720807614, 0.04879500364742666, 0.037267799624996496, 0.033333333333333326, 0.03984095364447979, 0.04714045207910316, 0.04303314829119352, 0.06454972243679027, 0.08856148855400953, 0.19034674690672024, 0.0408248290463863, 0.09999999999999998, 0.0, 0.0, 0.0408248290463863, 0.0, 0.04303314829119352, 0.0, 0.03892494720807614, 0.0, 0.0, 0.07784989441615228, 0.05504818825631803, 0.3795360576382948, 0.0, 0.0, 0.03580574370197164, 0.037267799624996496, 0.38069349381344053, 0.037267799624996496, 0.0, 0.0, 0.0, 0.05063696835418333, 0.0, 0.0, 0.10540925533894599, 0.0, 0.04303314829119352, 0.0, 0.32791291789197646, 0.04428074427700476, 0.0], [0.2886751345948129, 0.0, 0.2721655269759087, 0.2981423969999719, 0.0, 0.07856742013183862, 0.0, 0.19245008972987526, 0.14433756729740643, 0.0, 0.280056016805602, 0.0, 0.04303314829119352, 0.0, 1.0000000000000002, 0.16798421022632323, 0.041030496993110906, 0.3086066999241838, 0.03928371006591931, 0.42163702135578385, 0.0, 0.0, 0.04536092116265145, 0.06804138174397717, 0.0, 0.0, 0.04303314829119352, 0.0, 0.13608276348795437, 0.17660431427533915, 0.04303314829119352, 0.22680460581325726, 0.0907218423253029, 0.0, 0.041030496993110906, 0.055555555555555566, 0.04415107856883479, 0.041030496993110906, 0.0, 0.036369648372665396, 0.3774256780481987, 0.04415107856883479, 0.03774256780481986, 0.07856742013183862, 0.0, 0.23570226039551587, 0.12598815766974242, 0.08206099398622181, 0.03849001794597506, 0.05337605126836238, 0.33678765702728175, 0.055555555555555566, 0.055555555555555566, 0.060858061945018464, 0.0907218423253029, 0.0, 0.03456505649101418, 0.09335200560186732, 0.0], [0.1636634176769943, 0.0, 0.5143444998736397, 0.1126872339638022, 0.04879500364742666, 0.0, 0.0, 0.1091089451179962, 0.1091089451179962, 0.2351585405008862, 0.15877683720748895, 0.23145502494313785, 0.04879500364742666, 0.0, 0.16798421022632323, 1.0000000000000004, 0.0, 0.11664236870396087, 0.40089186286863665, 0.35856858280031806, 0.04761904761904762, 0.0, 0.0, 0.07715167498104596, 0.0, 0.0, 0.04879500364742666, 0.0, 0.0, 0.3003757045930553, 0.04879500364742666, 0.5657789498610039, 0.0, 0.0, 0.0, 0.0, 0.0, 0.0, 0.0, 0.0, 0.08559209850218259, 0.15018785229652765, 0.0, 0.0, 0.04550157551932901, 0.222717701593687, 0.1904761904761905, 0.0, 0.0, 0.0, 0.0, 0.3779644730092273, 0.0, 0.0, 0.051434449987363975, 0.0, 0.2351585405008862, 0.0, 0.0], [0.0, 0.05170876899950191, 0.0, 0.0, 0.04767312946227961, 0.08703882797784893, 0.1333662673423161, 0.053300179088902604, 0.0, 0.0, 0.0, 0.0, 0.14301938838683884, 0.03892494720807614, 0.041030496993110906, 0.0, 0.9999999999999999, 0.05698028822981897, 0.04351941398892446, 0.0, 0.04652421051992354, 0.0, 0.050251890762960605, 0.0753778361444409, 0.15512630699850571, 0.044455422447438706, 0.04767312946227961, 0.07784989441615228, 0.0, 0.0, 0.0, 0.0, 0.15075567228888181, 0.0, 0.04545454545454545, 0.0, 0.04891159880445184, 0.13636363636363635, 0.06428243465332249, 0.0, 0.04181210050035454, 0.04891159880445184, 0.29268470350248177, 0.08703882797784893, 0.044455422447438706, 0.0, 0.09304842103984708, 0.1818181818181818, 0.04264014327112209, 0.0, 0.0, 0.06154574548966637, 0.12309149097933274, 0.0, 0.10050378152592121, 0.0, 0.03829197905337418, 0.20683507599800763, 0.0674199862463242], [0.2672612419124244, 0.06482037235521644, 0.06299407883487121, 0.2760262237369417, 0.0, 0.054554472558998104, 0.05572782125753529, 0.0668153104781061, 0.2004459314343183, 0.048001536073731935, 0.4537426064865151, 0.0944911182523068, 0.05976143046671968, 0.04879500364742666, 0.3086066999241838, 0.11664236870396087, 0.05698028822981897, 0.9999999999999999, 0.10910894511799621, 0.19518001458970663, 0.0, 0.06900655593423542, 0.0, 0.0, 0.06482037235521644, 0.0, 0.0, 0.04879500364742666, 0.06299407883487121, 0.24525573579398632, 0.05976143046671968, 0.12598815766974242, 0.06299407883487121, 0.05572782125753529, 0.05698028822981897, 0.0, 0.06131393394849658, 0.11396057645963795, 0.0, 0.050507627227610534, 0.2096569673443837, 0.06131393394849658, 0.05241424183609592, 0.054554472558998104, 0.0, 0.32732683535398865, 0.11664236870396087, 0.05698028822981897, 0.053452248382484885, 0.07412493166611013, 0.0, 0.07715167498104597, 0.07715167498104597, 0.0, 0.06299407883487121, 0.0, 0.048001536073731935, 0.06482037235521644, 0.0], [0.051031036307982884, 0.04950737714883372, 0.33678765702728175, 0.0, 0.0, 0.04166666666666668, 0.042562826537937436, 0.15309310892394865, 0.0, 0.18330889377669166, 0.0, 0.21650635094610968, 0.045643546458763846, 0.037267799624996496, 0.03928371006591931, 0.40089186286863665, 0.04351941398892446, 0.10910894511799621, 1.0000000000000002, 0.18633899812498247, 0.0, 0.05270462766947299, 0.04811252243246882, 0.0, 0.04950737714883372, 0.0, 0.0, 0.037267799624996496, 0.0, 0.0468292905790847, 0.045643546458763846, 0.4330127018922194, 0.04811252243246882, 0.0, 0.04351941398892446, 0.0, 0.0468292905790847, 0.08703882797784893, 0.0, 0.03857583749052298, 0.04003203845127179, 0.1404878717372541, 0.04003203845127179, 0.04166666666666668, 0.0, 0.04166666666666668, 0.2672612419124244, 0.04351941398892446, 0.04082482904638631, 0.056613851707229795, 0.0, 0.35355339059327384, 0.058925565098878974, 0.0, 0.04811252243246882, 0.0, 0.18330889377669166, 0.04950737714883372, 0.0], [0.3195048252113469, 0.22140372138502382, 0.43033148291193524, 0.18856180831641264, 0.0, 0.037267799624996496, 0.03806934938134405, 0.18257418583505536, 0.13693063937629152, 0.16395645894598823, 0.17712297710801905, 0.19364916731037082, 0.0, 0.033333333333333326, 0.42163702135578385, 0.35856858280031806, 0.0, 0.19518001458970663, 0.18633899812498247, 0.9999999999999998, 0.15936381457791915, 0.04714045207910316, 0.0, 0.06454972243679027, 0.04428074427700476, 0.0, 0.0408248290463863, 0.033333333333333326, 0.04303314829119352, 0.20942695414584772, 0.0408248290463863, 0.38729833462074165, 0.04303314829119352, 0.0761386987626881, 0.07784989441615228, 0.0, 0.0, 0.03892494720807614, 0.0, 0.06900655593423541, 0.0, 0.0837707816583391, 0.07161148740394328, 0.037267799624996496, 0.0, 0.2608745973749755, 0.07968190728895957, 0.03892494720807614, 0.0, 0.10127393670836667, 0.04564354645876384, 0.21081851067789198, 0.10540925533894599, 0.0, 0.04303314829119352, 0.0, 0.13116516715679058, 0.04428074427700476, 0.0], [0.0545544725589981, 0.10585122480499264, 0.051434449987363975, 0.0, 0.19518001458970666, 0.08908708063747481, 0.3185110286353031, 0.0545544725589981, 0.0545544725589981, 0.0, 0.05292561240249632, 0.07715167498104596, 0.14638501094227999, 0.03984095364447979, 0.0, 0.04761904761904762, 0.04652421051992354, 0.0, 0.0, 0.15936381457791915, 1.0000000000000002, 0.0563436169819011, 0.10286889997472795, 0.3086066999241838, 0.10585122480499264, 0.04550157551932901, 0.19518001458970666, 0.15936381457791915, 0.0, 0.10012523486435176, 0.09759000729485331, 0.0, 0.051434449987363975, 0.40951417967396114, 0.04652421051992354, 0.0, 0.0, 0.04652421051992354, 0.0657951694959769, 0.041239304942116126, 0.08559209850218259, 0.0, 0.0, 0.13363062095621223, 0.13650472655798704, 0.044543540318737404, 0.0, 0.0, 0.17457431218879393, 0.060522753266880246, 0.0545544725589981, 0.0, 0.06299407883487121, 0.06900655593423542, 0.15430334996209194, 0.0, 0.0, 0.0, 0.06900655593423542], [0.12909944487358055, 0.06262242910851494, 0.06085806194501846, 0.0, 0.05773502691896257, 0.10540925533894598, 0.053838190205816545, 0.0, 0.0, 0.046373889576016826, 0.0, 0.18257418583505533, 0.0, 0.04714045207910316, 0.0, 0.0, 0.0, 0.06900655593423542, 0.05270462766947299, 0.04714045207910316, 0.0563436169819011, 0.9999999999999998, 0.18257418583505536, 0.09128709291752767, 0.12524485821702988, 0.0, 0.0, 0.09428090415820632, 0.0, 0.0, 0.05773502691896257, 0.0, 0.0, 0.0, 0.05504818825631802, 0.0, 0.0, 0.05504818825631802, 0.0, 0.04879500364742665, 0.0, 0.0, 0.050636968354183326, 0.0, 0.0, 0.05270462766947299, 0.0, 0.0, 0.0, 0.07161148740394328, 0.0, 0.0, 0.07453559924999299, 0.0816496580927726, 0.0, 0.0, 0.0, 0.0, 0.0816496580927726], [0.0, 0.05716619504750295, 0.0, 0.06085806194501846, 0.10540925533894599, 0.0, 0.049147318718299055, 0.0, 0.0, 0.0, 0.0, 0.08333333333333333, 0.10540925533894599, 0.04303314829119352, 0.04536092116265145, 0.0, 0.050251890762960605, 0.0, 0.04811252243246882, 0.0, 0.10286889997472795, 0.18257418583505536, 1.0000000000000002, 0.16666666666666666, 0.1143323900950059, 0.049147318718299055, 0.052704627669472995, 0.08606629658238704, 0.0, 0.05407380704358751, 0.0, 0.0, 0.055555555555555566, 0.09829463743659811, 0.0, 0.06804138174397718, 0.0, 0.050251890762960605, 0.07106690545187015, 0.0, 0.0, 0.0, 0.0, 0.5292377467571571, 0.049147318718299055, 0.0, 0.0, 0.0, 0.0, 0.0, 0.0, 0.0, 0.06804138174397718, 0.298142396999972, 0.055555555555555566, 0.0, 0.0, 0.0, 0.074535599249993], [0.08838834764831843, 0.17149858514250882, 0.16666666666666666, 0.09128709291752767, 0.3162277660168379, 0.14433756729740646, 0.07372097807744857, 0.17677669529663687, 0.0, 0.0, 0.17149858514250882, 0.12499999999999997, 0.23717082451262841, 0.06454972243679027, 0.06804138174397717, 0.07715167498104596, 0.0753778361444409, 0.0, 0.0, 0.06454972243679027, 0.3086066999241838, 0.09128709291752767, 0.16666666666666666, 0.9999999999999999, 0.17149858514250882, 0.14744195615489714, 0.23717082451262841, 0.2581988897471611, 0.0, 0.08111071056538126, 0.15811388300841894, 0.0, 0.16666666666666666, 0.0, 0.1507556722888818, 0.0, 0.0, 0.0753778361444409, 0.10660035817780521, 0.13363062095621217, 0.06933752452815364, 0.0, 0.06933752452815364, 0.2886751345948129, 0.2211629342323457, 0.0, 0.07715167498104596, 0.0753778361444409, 0.0, 0.19611613513818402, 0.08838834764831843, 0.0, 0.2041241452319315, 0.22360679774997896, 0.41666666666666663, 0.0, 0.0, 0.08574929257125441, 0.11180339887498948], [0.06063390625908324, 0.11764705882352941, 0.0, 0.0, 0.10846522890932808, 0.0, 0.10114434748483472, 0.0, 0.0, 0.04356068418690321, 0.0, 0.17149858514250882, 0.10846522890932808, 0.08856148855400953, 0.0, 0.0, 0.15512630699850571, 0.06482037235521644, 0.04950737714883372, 0.04428074427700476, 0.10585122480499264, 0.12524485821702988, 0.1143323900950059, 0.17149858514250882, 1.0, 0.05057217374241736, 0.10846522890932808, 0.1328422328310143, 0.0, 0.0, 0.05423261445466404, 0.0, 0.5144957554275266, 0.0, 0.05170876899950191, 0.0, 0.0, 0.10341753799900381, 0.07312724241271307, 0.04583492485141056, 0.0, 0.0, 0.28539089649269644, 0.04950737714883372, 0.05057217374241736, 0.04950737714883372, 0.0, 0.05170876899950191, 0.0, 0.06726727939963124, 0.0, 0.0, 0.140028008402801, 0.07669649888473705, 0.05716619504750295, 0.0, 0.0, 0.0, 0.1533929977694741], [0.0, 0.05057217374241736, 0.0, 0.0, 0.3263766828841098, 0.08512565307587487, 0.04347826086956522, 0.0, 0.0, 0.0, 0.0, 0.0, 0.3730019232961255, 0.19034674690672024, 0.0, 0.0, 0.044455422447438706, 0.0, 0.0, 0.0, 0.04550157551932901, 0.0, 0.049147318718299055, 0.14744195615489714, 0.05057217374241736, 1.0000000000000002, 0.04662524041201569, 0.0761386987626881, 0.0, 0.0, 0.0, 0.0, 0.049147318718299055, 0.0, 0.0, 0.0, 0.0, 0.044455422447438706, 0.06286946134619315, 0.07881104062391006, 0.0, 0.0, 0.0, 0.042562826537937436, 0.04347826086956522, 0.0, 0.04550157551932901, 0.0, 0.0, 0.0, 0.0, 0.0, 0.06019292654288461, 0.0, 0.09829463743659811, 0.0, 0.07490058862731383, 0.10114434748483472, 0.0], [0.05590169943749474, 0.05423261445466404, 0.10540925533894599, 0.05773502691896257, 0.09999999999999999, 0.045643546458763846, 0.606128125356204, 0.05590169943749474, 0.0, 0.0, 0.10846522890932808, 0.0, 0.15, 0.0408248290463863, 0.04303314829119352, 0.04879500364742666, 0.04767312946227961, 0.0, 0.0, 0.0408248290463863, 0.19518001458970666, 0.0, 0.052704627669472995, 0.23717082451262841, 0.10846522890932808, 0.04662524041201569, 1.0, 0.0816496580927726, 0.0, 0.0512989176042577, 0.0, 0.0, 0.10540925533894599, 0.0, 0.04767312946227961, 0.0, 0.0, 0.04767312946227961, 0.06741998624632421, 0.042257712736425826, 0.043852900965351466, 0.0, 0.043852900965351466, 0.09128709291752769, 0.09325048082403138, 0.0, 0.0, 0.19069251784911845, 0.17888543819998318, 0.06201736729460423, 0.05590169943749474, 0.0, 0.12909944487358058, 0.0, 0.21081851067789195, 0.0, 0.0, 0.05423261445466404, 0.0], [0.09128709291752768, 0.22140372138502382, 0.04303314829119352, 0.0, 0.1632993161855452, 0.07453559924999299, 0.11420804814403214, 0.09128709291752768, 0.0, 0.032791291789197645, 0.0, 0.06454972243679027, 0.1632993161855452, 0.09999999999999998, 0.0, 0.0, 0.07784989441615228, 0.04879500364742666, 0.037267799624996496, 0.033333333333333326, 0.15936381457791915, 0.09428090415820632, 0.08606629658238704, 0.2581988897471611, 0.1328422328310143, 0.0761386987626881, 0.0816496580927726, 0.9999999999999998, 0.0, 0.0, 0.20412414523193148, 0.0, 0.08606629658238704, 0.0, 0.11677484162422842, 0.0, 0.0, 0.11677484162422842, 0.11009637651263605, 0.10350983390135311, 0.0, 0.0, 0.03580574370197164, 0.223606797749979, 0.1522773975253762, 0.037267799624996496, 0.0, 0.0, 0.0, 0.15191090506255, 0.0, 0.0, 0.15811388300841897, 0.0, 0.17213259316477408, 0.0, 0.0, 0.0, 0.0], [0.0, 0.0, 0.0, 0.0, 0.0, 0.0, 0.0, 0.0, 0.05892556509887897, 0.0, 0.0, 0.0, 0.0, 0.0, 0.13608276348795437, 0.0, 0.0, 0.06299407883487121, 0.0, 0.04303314829119352, 0.0, 0.0, 0.0, 0.0, 0.0, 0.0, 0.0, 0.0, 1.0000000000000002, 0.0, 0.0, 0.11111111111111113, 0.0, 0.0, 0.0, 0.0, 0.0, 0.0, 0.07106690545187015, 0.0, 0.04622501635210244, 0.0, 0.0, 0.0, 0.0, 0.0, 0.051434449987363975, 0.0, 0.0, 0.0, 0.05892556509887897, 0.0, 0.0, 0.0, 0.0, 0.052704627669472995, 0.0, 0.0, 0.074535599249993], [0.34412360080584264, 0.11128297681493143, 0.10814761408717502, 0.17770466332772766, 0.0512989176042577, 0.0468292905790847, 0.0, 0.057353933467640436, 0.2867696673382022, 0.0, 0.22256595362986287, 0.0, 0.0512989176042577, 0.0, 0.17660431427533915, 0.3003757045930553, 0.0, 0.24525573579398632, 0.0468292905790847, 0.20942695414584772, 0.10012523486435176, 0.0, 0.05407380704358751, 0.08111071056538126, 0.0, 0.0, 0.0512989176042577, 0.0, 0.0, 0.9999999999999994, 0.0512989176042577, 0.05407380704358751, 0.0, 0.09567297464698797, 0.0, 0.06622661785325219, 0.0, 0.0, 0.0, 0.0, 0.179968508266339, 0.0, 0.0, 0.0, 0.047836487323493986, 0.468292905790847, 0.0, 0.0, 0.0, 0.0, 0.11470786693528087, 0.0, 0.0, 0.0, 0.05407380704358751, 0.0, 0.0, 0.0, 0.0], [0.05590169943749474, 0.16269784336399212, 0.0, 0.0, 0.09999999999999999, 0.09128709291752769, 0.04662524041201569, 0.11180339887498948, 0.0, 0.04016096644512494, 0.0, 0.07905694150420947, 0.0, 0.0408248290463863, 0.04303314829119352, 0.04879500364742666, 0.0, 0.05976143046671968, 0.045643546458763846, 0.0408248290463863, 0.09759000729485331, 0.05773502691896257, 0.0, 0.15811388300841894, 0.05423261445466404, 0.0, 0.0, 0.20412414523193148, 0.0, 0.0512989176042577, 1.0, 0.0, 0.0, 0.0, 0.14301938838683884, 0.0, 0.0, 0.04767312946227961, 0.0, 0.12677313820927746, 0.043852900965351466, 0.0, 0.043852900965351466, 0.18257418583505539, 0.09325048082403138, 0.045643546458763846, 0.0, 0.0, 0.0, 0.4341215710622296, 0.0, 0.0, 0.06454972243679029, 0.0, 0.10540925533894599, 0.0, 0.0, 0.0, 0.0], [0.05892556509887897, 0.0, 0.44444444444444453, 0.06085806194501846, 0.0, 0.0, 0.0, 0.11785113019775793, 0.11785113019775793, 0.254000254000381, 0.05716619504750295, 0.25, 0.0, 0.0, 0.22680460581325726, 0.5657789498610039, 0.0, 0.12598815766974242, 0.4330127018922194, 0.38729833462074165, 0.0, 0.0, 0.0, 0.0, 0.0, 0.0, 0.0, 0.0, 0.11111111111111113, 0.05407380704358751, 0.0, 1.0000000000000002, 0.0, 0.0, 0.0, 0.0, 0.0, 0.0, 0.07106690545187015, 0.0, 0.0, 0.27036903521793754, 0.0, 0.0, 0.0, 0.09622504486493764, 0.4629100498862758, 0.0, 0.0, 0.0, 0.05892556509887897, 0.4082482904638631, 0.0, 0.0, 0.0, 0.052704627669472995, 0.254000254000381, 0.0, 0.074535599249993], [0.05892556509887897, 0.05716619504750295, 0.055555555555555566, 0.06085806194501846, 0.052704627669472995, 0.14433756729740646, 0.14744195615489716, 0.11785113019775793, 0.0, 0.0, 0.05716619504750295, 0.0, 0.15811388300841897, 0.04303314829119352, 0.0907218423253029, 0.0, 0.15075567228888181, 0.06299407883487121, 0.04811252243246882, 0.04303314829119352, 0.051434449987363975, 0.0, 0.055555555555555566, 0.16666666666666666, 0.5144957554275266, 0.049147318718299055, 0.10540925533894599, 0.08606629658238704, 0.0, 0.0, 0.0, 0.0, 1.0000000000000002, 0.0, 0.10050378152592121, 0.0, 0.05407380704358751, 0.15075567228888181, 0.07106690545187015, 0.0445435403187374, 0.04622501635210244, 0.05407380704358751, 0.04622501635210244, 0.14433756729740646, 0.049147318718299055, 0.0, 0.10286889997472795, 0.20100756305184242, 0.047140452079103175, 0.06537204504606135, 0.05892556509887897, 0.06804138174397718, 0.20412414523193156, 0.0, 0.1666666666666667, 0.0, 0.04233337566673017, 0.1143323900950059, 0.0], [0.0, 0.10114434748483472, 0.0, 0.053838190205816545, 0.0, 0.0, 0.26086956521739135, 0.0, 0.0, 0.0, 0.05057217374241736, 0.0, 0.0, 0.0, 0.0, 0.0, 0.0, 0.05572782125753529, 0.0, 0.0761386987626881, 0.40951417967396114, 0.0, 0.09829463743659811, 0.0, 0.0, 0.0, 0.0, 0.0, 0.0, 0.09567297464698797, 0.0, 0.0, 0.0, 1.0000000000000002, 0.0, 0.0, 0.0, 0.0, 0.0, 0.0, 0.0, 0.0, 0.0, 0.0, 0.0, 0.0, 0.0, 0.0, 0.0, 0.0, 0.0, 0.0, 0.0, 0.2637521893583148, 0.0, 0.0, 0.0, 0.0, 0.0], [0.10660035817780521, 0.10341753799900381, 0.050251890762960605, 0.05504818825631802, 0.04767312946227961, 0.13055824196677338, 0.08891084489487741, 0.1599005372667078, 0.0, 0.03829197905337418, 0.05170876899950191, 0.0753778361444409, 0.0, 0.03892494720807614, 0.041030496993110906, 0.0, 0.04545454545454545, 0.05698028822981897, 0.04351941398892446, 0.07784989441615228, 0.04652421051992354, 0.05504818825631802, 0.0, 0.1507556722888818, 0.05170876899950191, 0.0, 0.04767312946227961, 0.11677484162422842, 0.0, 0.0, 0.14301938838683884, 0.0, 0.10050378152592121, 0.0, 0.9999999999999998, 0.0, 0.0, 0.2727272727272727, 0.0, 0.12087344460380703, 0.0, 0.0, 0.08362420100070908, 0.13055824196677338, 0.044455422447438706, 0.04351941398892446, 0.04652421051992354, 0.04545454545454545, 0.0, 0.17739371879672478, 0.053300179088902604, 0.0, 0.1846372364689991, 0.0, 0.10050378152592121, 0.0, 0.0, 0.05170876899950191, 0.0], [0.0, 0.0, 0.0, 0.29814239699997197, 0.0, 0.0, 0.0, 0.0, 0.14433756729740646, 0.0, 0.0, 0.0, 0.0, 0.0, 0.055555555555555566, 0.0, 0.0, 0.0, 0.0, 0.0, 0.0, 0.0, 0.06804138174397718, 0.0, 0.0, 0.0, 0.0, 0.0, 0.0, 0.06622661785325219, 0.0, 0.0, 0.0, 0.0, 0.0, 1.0000000000000002, 0.0, 0.0, 0.0, 0.0, 0.056613851707229795, 0.0, 0.0, 0.0, 0.0, 0.058925565098878974, 0.0, 0.0, 0.0, 0.0, 0.07216878364870323, 0.0, 0.0, 0.0912870929175277, 0.0, 0.19364916731037088, 0.0, 0.0, 0.0], [0.0, 0.0, 0.05407380704358751, 0.0, 0.0, 0.0468292905790847, 0.0, 0.0, 0.057353933467640436, 0.20602141085758227, 0.0, 0.0, 0.0512989176042577, 0.0, 0.04415107856883479, 0.0, 0.04891159880445184, 0.06131393394849658, 0.0468292905790847, 0.0, 0.0, 0.0, 0.0, 0.0, 0.0, 0.0, 0.0, 0.0, 0.0, 0.0, 0.0, 0.0, 0.05407380704358751, 0.0, 0.0, 0.0, 0.9999999999999997, 0.04891159880445184, 0.0, 0.0, 0.04499212706658475, 0.10526315789473682, 0.0, 0.0468292905790847, 0.0, 0.0, 0.05006261743217588, 0.09782319760890368, 0.04588314677411235, 0.0, 0.0, 0.06622661785325219, 0.0, 0.0, 0.05407380704358751, 0.0, 0.12361284651454937, 0.05564148840746572, 0.0], [0.053300179088902604, 0.10341753799900381, 0.0, 0.0, 0.04767312946227961, 0.08703882797784893, 0.1333662673423161, 0.053300179088902604, 0.0, 0.03829197905337418, 0.0, 0.0753778361444409, 0.14301938838683884, 0.07784989441615228, 0.041030496993110906, 0.0, 0.13636363636363635, 0.11396057645963795, 0.08703882797784893, 0.03892494720807614, 0.04652421051992354, 0.05504818825631802, 0.050251890762960605, 0.0753778361444409, 0.10341753799900381, 0.044455422447438706, 0.04767312946227961, 0.11677484162422842, 0.0, 0.0, 0.04767312946227961, 0.0, 0.15075567228888181, 0.0, 0.2727272727272727, 0.0, 0.04891159880445184, 1.0, 0.06428243465332249, 0.04029114820126901, 0.04181210050035454, 0.04891159880445184, 0.04181210050035454, 0.08703882797784893, 0.044455422447438706, 0.04351941398892446, 0.09304842103984708, 0.04545454545454545, 0.04264014327112209, 0.05913123959890826, 0.0, 0.06154574548966637, 0.36927447293799825, 0.0, 0.10050378152592121, 0.0, 0.03829197905337418, 0.05170876899950191, 0.0], [0.0, 0.07312724241271307, 0.0, 0.0, 0.06741998624632421, 0.0, 0.06286946134619315, 0.0, 0.07537783614444091, 0.0, 0.0, 0.0, 0.13483997249264842, 0.05504818825631803, 0.0, 0.0, 0.06428243465332249, 0.0, 0.0, 0.0, 0.0657951694959769, 0.0, 0.07106690545187015, 0.10660035817780521, 0.07312724241271307, 0.06286946134619315, 0.06741998624632421, 0.11009637651263605, 0.07106690545187015, 0.0, 0.0, 0.07106690545187015, 0.07106690545187015, 0.0, 0.0, 0.0, 0.0, 0.06428243465332249, 1.0000000000000002, 0.0, 0.0, 0.0, 0.0, 0.061545745489666376, 0.06286946134619315, 0.0, 0.0, 0.0, 0.0, 0.0, 0.07537783614444091, 0.0, 0.08703882797784893, 0.0, 0.07106690545187015, 0.06741998624632421, 0.0, 0.0, 0.09534625892455924], [0.0944911182523068, 0.09166984970282112, 0.0445435403187374, 0.04879500364742665, 0.1690308509457033, 0.27003086243366087, 0.03940552031195503, 0.0944911182523068, 0.0, 0.03394221166510653, 0.04583492485141056, 0.06681531047810609, 0.1690308509457033, 0.3795360576382948, 0.036369648372665396, 0.0, 0.0, 0.050507627227610534, 0.03857583749052298, 0.06900655593423541, 0.041239304942116126, 0.04879500364742665, 0.0, 0.13363062095621217, 0.04583492485141056, 0.07881104062391006, 0.042257712736425826, 0.10350983390135311, 0.0, 0.0, 0.12677313820927746, 0.0, 0.0445435403187374, 0.0, 0.12087344460380703, 0.0, 0.0, 0.04029114820126901, 0.0, 0.9999999999999999, 0.0, 0.0, 0.07412493166611012, 0.11572751247156894, 0.3940552031195504, 0.03857583749052298, 0.0, 0.04029114820126901, 0.0, 0.15724272550828775, 0.0472455591261534, 0.0, 0.1091089451179962, 0.0, 0.0890870806374748, 0.0, 0.3394221166510653, 0.09166984970282112, 0.0], [0.04902903378454601, 0.0, 0.04622501635210244, 0.2025478734167333, 0.043852900965351466, 0.08006407690254358, 0.0, 0.0, 0.04902903378454601, 0.0, 0.6183469424008423, 0.0, 0.08770580193070293, 0.0, 0.3774256780481987, 0.08559209850218259, 0.04181210050035454, 0.2096569673443837, 0.04003203845127179, 0.0, 0.08559209850218259, 0.0, 0.0, 0.06933752452815364, 0.0, 0.0, 0.043852900965351466, 0.0, 0.04622501635210244, 0.179968508266339, 0.043852900965351466, 0.0, 0.04622501635210244, 0.0, 0.0, 0.056613851707229795, 0.04499212706658475, 0.04181210050035454, 0.0, 0.0, 0.9999999999999999, 0.04499212706658475, 0.0, 0.04003203845127179, 0.04089304100547654, 0.08006407690254358, 0.042796049251091296, 0.04181210050035454, 0.03922322702763681, 0.0, 0.4902903378454601, 0.056613851707229795, 0.0, 0.0, 0.09245003270420488, 0.0, 0.03522349768381735, 0.04756514941544941, 0.0], [0.0, 0.0, 0.10814761408717502, 0.0, 0.0, 0.0468292905790847, 0.0, 0.0, 0.0, 0.08240856434303291, 0.0, 0.16222142113076252, 0.0512989176042577, 0.0, 0.04415107856883479, 0.15018785229652765, 0.04891159880445184, 0.06131393394849658, 0.1404878717372541, 0.0837707816583391, 0.0, 0.0, 0.0, 0.0, 0.0, 0.0, 0.0, 0.0, 0.0, 0.0, 0.0, 0.27036903521793754, 0.05407380704358751, 0.0, 0.0, 0.0, 0.10526315789473682, 0.04891159880445184, 0.0, 0.0, 0.04499212706658475, 0.9999999999999997, 0.0, 0.0468292905790847, 0.0, 0.0, 0.10012523486435176, 0.04891159880445184, 0.04588314677411235, 0.0, 0.0, 0.33113308926626095, 0.0, 0.0, 0.05407380704358751, 0.0, 0.12361284651454937, 0.05564148840746572, 0.0], [0.09805806756909202, 0.04756514941544941, 0.04622501635210244, 0.050636968354183326, 0.0, 0.04003203845127179, 0.04089304100547654, 0.04902903378454601, 0.0, 0.03522349768381735, 0.04756514941544941, 0.06933752452815364, 0.0, 0.03580574370197164, 0.03774256780481986, 0.0, 0.29268470350248177, 0.05241424183609592, 0.04003203845127179, 0.07161148740394328, 0.0, 0.050636968354183326, 0.0, 0.06933752452815364, 0.28539089649269644, 0.0, 0.043852900965351466, 0.03580574370197164, 0.0, 0.0, 0.043852900965351466, 0.0, 0.04622501635210244, 0.0, 0.08362420100070908, 0.0, 0.0, 0.04181210050035454, 0.0, 0.07412493166611012, 0.0, 0.0, 1.0, 0.04003203845127179, 0.0, 0.04003203845127179, 0.0, 0.2090605025017727, 0.0, 0.10878565864408425, 0.04902903378454601, 0.0, 0.11322770341445959, 0.0, 0.04622501635210244, 0.0, 0.0, 0.14269544824634822, 0.1860521018838127], [0.051031036307982884, 0.14852213144650117, 0.04811252243246882, 0.05270462766947299, 0.13693063937629155, 0.1666666666666667, 0.042562826537937436, 0.15309310892394865, 0.0, 0.0, 0.04950737714883372, 0.0, 0.13693063937629155, 0.037267799624996496, 0.07856742013183862, 0.0, 0.08703882797784893, 0.054554472558998104, 0.04166666666666668, 0.037267799624996496, 0.13363062095621223, 0.0, 0.5292377467571571, 0.2886751345948129, 0.04950737714883372, 0.042562826537937436, 0.09128709291752769, 0.223606797749979, 0.0, 0.0, 0.18257418583505539, 0.0, 0.14433756729740646, 0.0, 0.13055824196677338, 0.0, 0.0468292905790847, 0.08703882797784893, 0.061545745489666376, 0.11572751247156894, 0.04003203845127179, 0.0468292905790847, 0.04003203845127179, 1.0000000000000002, 0.1276884796138123, 0.0, 0.044543540318737404, 0.08703882797784893, 0.08164965809277262, 0.16984155512168939, 0.051031036307982884, 0.058925565098878974, 0.11785113019775795, 0.0, 0.24056261216234412, 0.0, 0.03666177875533833, 0.14852213144650117, 0.0], [0.0, 0.10114434748483472, 0.049147318718299055, 0.0, 0.13987572123604708, 0.42562826537937437, 0.04347826086956522, 0.1563858105428061, 0.0, 0.0, 0.05057217374241736, 0.0, 0.5595028849441883, 0.38069349381344053, 0.0, 0.04550157551932901, 0.044455422447438706, 0.0, 0.0, 0.0, 0.13650472655798704, 0.0, 0.049147318718299055, 0.2211629342323457, 0.05057217374241736, 0.04347826086956522, 0.09325048082403138, 0.1522773975253762, 0.0, 0.047836487323493986, 0.09325048082403138, 0.0, 0.049147318718299055, 0.0, 0.044455422447438706, 0.0, 0.0, 0.044455422447438706, 0.06286946134619315, 0.3940552031195504, 0.04089304100547654, 0.0, 0.0, 0.1276884796138123, 1.0, 0.0, 0.0, 0.0, 0.0, 0.05783149319662403, 0.0, 0.0, 0.06019292654288461, 0.0, 0.14744195615489716, 0.0, 0.33705264882291225, 0.20228869496966945, 0.0], [0.3572172541558802, 0.04950737714883372, 0.09622504486493764, 0.26352313834736496, 0.045643546458763846, 0.04166666666666668, 0.042562826537937436, 0.10206207261596577, 0.45927932677184596, 0.03666177875533833, 0.24753688574416863, 0.07216878364870323, 0.0, 0.037267799624996496, 0.23570226039551587, 0.222717701593687, 0.0, 0.32732683535398865, 0.04166666666666668, 0.2608745973749755, 0.044543540318737404, 0.05270462766947299, 0.0, 0.0, 0.04950737714883372, 0.0, 0.0, 0.037267799624996496, 0.0, 0.468292905790847, 0.045643546458763846, 0.09622504486493764, 0.0, 0.0, 0.04351941398892446, 0.058925565098878974, 0.0, 0.04351941398892446, 0.0, 0.03857583749052298, 0.08006407690254358, 0.0, 0.04003203845127179, 0.0, 0.0, 1.0000000000000002, 0.0, 0.0, 0.0, 0.056613851707229795, 0.10206207261596577, 0.0, 0.058925565098878974, 0.0, 0.0, 0.0, 0.0, 0.0, 0.0], [0.0, 0.0, 0.15430334996209194, 0.0, 0.0, 0.08908708063747481, 0.04550157551932901, 0.1091089451179962, 0.0, 0.07838618016696206, 0.0, 0.07715167498104596, 0.04879500364742666, 0.0, 0.12598815766974242, 0.1904761904761905, 0.09304842103984708, 0.11664236870396087, 0.2672612419124244, 0.07968190728895957, 0.0, 0.0, 0.0, 0.07715167498104596, 0.0, 0.04550157551932901, 0.0, 0.0, 0.051434449987363975, 0.0, 0.0, 0.4629100498862758, 0.10286889997472795, 0.0, 0.04652421051992354, 0.0, 0.05006261743217588, 0.09304842103984708, 0.0, 0.0, 0.042796049251091296, 0.10012523486435176, 0.0, 0.044543540318737404, 0.0, 0.0, 1.0000000000000002, 0.04652421051992354, 0.043643578047198484, 0.0, 0.0, 0.18898223650461363, 0.06299407883487121, 0.0, 0.10286889997472795, 0.0, 0.11757927025044308, 0.05292561240249632, 0.0], [0.053300179088902604, 0.0, 0.050251890762960605, 0.05504818825631802, 0.0, 0.08703882797784893, 0.17782168978975482, 0.053300179088902604, 0.0, 0.0, 0.05170876899950191, 0.0, 0.04767312946227961, 0.0, 0.08206099398622181, 0.0, 0.1818181818181818, 0.05698028822981897, 0.04351941398892446, 0.03892494720807614, 0.0, 0.0, 0.0, 0.0753778361444409, 0.05170876899950191, 0.0, 0.19069251784911845, 0.0, 0.0, 0.0, 0.0, 0.0, 0.20100756305184242, 0.0, 0.04545454545454545, 0.0, 0.09782319760890368, 0.04545454545454545, 0.0, 0.04029114820126901, 0.04181210050035454, 0.04891159880445184, 0.2090605025017727, 0.08703882797784893, 0.0, 0.0, 0.04652421051992354, 0.9999999999999998, 0.04264014327112209, 0.05913123959890826, 0.053300179088902604, 0.06154574548966637, 0.06154574548966637, 0.0, 0.15075567228888181, 0.0, 0.07658395810674835, 0.20683507599800763, 0.0], [0.0, 0.0, 0.0, 0.0, 0.0, 0.04082482904638631, 0.0, 0.0, 0.0, 0.0, 0.0, 0.0, 0.044721359549995794, 0.0, 0.03849001794597506, 0.0, 0.04264014327112209, 0.053452248382484885, 0.04082482904638631, 0.0, 0.17457431218879393, 0.0, 0.0, 0.0, 0.0, 0.0, 0.17888543819998318, 0.0, 0.0, 0.0, 0.0, 0.0, 0.047140452079103175, 0.0, 0.0, 0.0, 0.04588314677411235, 0.04264014327112209, 0.0, 0.0, 0.03922322702763681, 0.04588314677411235, 0.0, 0.08164965809277262, 0.0, 0.0, 0.043643578047198484, 0.04264014327112209, 1.0, 0.0, 0.0, 0.05773502691896259, 0.0, 0.0, 0.047140452079103175, 0.0, 0.03592106040535498, 0.09701425001453319, 0.0], [0.1386750490563073, 0.1345345587992625, 0.06537204504606135, 0.07161148740394328, 0.06201736729460423, 0.11322770341445959, 0.05783149319662403, 0.1386750490563073, 0.0, 0.049813548138671795, 0.06726727939963124, 0.09805806756909201, 0.0, 0.05063696835418333, 0.05337605126836238, 0.0, 0.0, 0.07412493166611013, 0.056613851707229795, 0.10127393670836667, 0.060522753266880246, 0.07161148740394328, 0.0, 0.19611613513818402, 0.06726727939963124, 0.0, 0.06201736729460423, 0.15191090506255, 0.0, 0.0, 0.4341215710622296, 0.0, 0.06537204504606135, 0.0, 0.17739371879672478, 0.0, 0.0, 0.05913123959890826, 0.0, 0.15724272550828775, 0.0, 0.0, 0.10878565864408425, 0.16984155512168939, 0.05783149319662403, 0.056613851707229795, 0.0, 0.05913123959890826, 0.0, 1.0000000000000004, 0.06933752452815364, 0.0, 0.16012815380508716, 0.0, 0.1307440900921227, 0.0, 0.0, 0.06726727939963124, 0.0], [0.125, 0.0, 0.05892556509887897, 0.19364916731037082, 0.0, 0.10206207261596577, 0.0, 0.0625, 0.125, 0.0, 0.18190171877724973, 0.0, 0.0, 0.0, 0.33678765702728175, 0.0, 0.0, 0.0, 0.0, 0.04564354645876384, 0.0545544725589981, 0.0, 0.0, 0.08838834764831843, 0.0, 0.0, 0.05590169943749474, 0.0, 0.05892556509887897, 0.11470786693528087, 0.0, 0.05892556509887897, 0.05892556509887897, 0.0, 0.053300179088902604, 0.07216878364870323, 0.0, 0.0, 0.07537783614444091, 0.0472455591261534, 0.4902903378454601, 0.0, 0.04902903378454601, 0.051031036307982884, 0.0, 0.10206207261596577, 0.0, 0.053300179088902604, 0.0, 0.06933752452815364, 1.0, 0.0, 0.07216878364870323, 0.0, 0.05892556509887897, 0.05590169943749474, 0.0, 0.06063390625908324, 0.07905694150420949], [0.0, 0.0, 0.27216552697590873, 0.0, 0.0, 0.058925565098878974, 0.0, 0.0, 0.0, 0.31108550841912763, 0.0, 0.5103103630798288, 0.06454972243679029, 0.0, 0.055555555555555566, 0.3779644730092273, 0.06154574548966637, 0.07715167498104597, 0.35355339059327384, 0.21081851067789198, 0.0, 0.0, 0.0, 0.0, 0.0, 0.0, 0.0, 0.0, 0.0, 0.0, 0.0, 0.4082482904638631, 0.06804138174397718, 0.0, 0.0, 0.0, 0.06622661785325219, 0.06154574548966637, 0.0, 0.0, 0.056613851707229795, 0.33113308926626095, 0.0, 0.058925565098878974, 0.0, 0.0, 0.18898223650461363, 0.06154574548966637, 0.05773502691896259, 0.0, 0.0, 1.0000000000000002, 0.0, 0.0, 0.06804138174397718, 0.0, 0.36293309315564887, 0.0700140042014005, 0.0], [0.14433756729740646, 0.140028008402801, 0.06804138174397718, 0.07453559924999299, 0.06454972243679029, 0.11785113019775795, 0.18057877962865385, 0.14433756729740646, 0.0, 0.05184758473652127, 0.0700140042014005, 0.10206207261596575, 0.12909944487358058, 0.10540925533894599, 0.055555555555555566, 0.0, 0.12309149097933274, 0.07715167498104597, 0.058925565098878974, 0.10540925533894599, 0.06299407883487121, 0.07453559924999299, 0.06804138174397718, 0.2041241452319315, 0.140028008402801, 0.06019292654288461, 0.12909944487358058, 0.15811388300841897, 0.0, 0.0, 0.06454972243679029, 0.0, 0.20412414523193156, 0.0, 0.1846372364689991, 0.0, 0.0, 0.36927447293799825, 0.08703882797784893, 0.1091089451179962, 0.0, 0.0, 0.11322770341445959, 0.11785113019775795, 0.06019292654288461, 0.058925565098878974, 0.06299407883487121, 0.06154574548966637, 0.0, 0.16012815380508716, 0.07216878364870323, 0.0, 1.0000000000000002, 0.0, 0.13608276348795437, 0.0, 0.0, 0.0700140042014005, 0.0], [0.0, 0.0, 0.0, 0.0816496580927726, 0.07071067811865475, 0.0, 0.0, 0.0, 0.0, 0.0, 0.0, 0.11180339887498948, 0.0, 0.0, 0.060858061945018464, 0.0, 0.0, 0.0, 0.0, 0.0, 0.06900655593423542, 0.0816496580927726, 0.298142396999972, 0.22360679774997896, 0.07669649888473705, 0.0, 0.0, 0.0, 0.0, 0.0, 0.0, 0.0, 0.0, 0.2637521893583148, 0.0, 0.0912870929175277, 0.0, 0.0, 0.0, 0.0, 0.0, 0.0, 0.0, 0.0, 0.0, 0.0, 0.0, 0.0, 0.0, 0.0, 0.0, 0.0, 0.0, 0.9999999999999999, 0.0, 0.0, 0.0, 0.0, 0.1], [0.05892556509887897, 0.2286647801900118, 0.11111111111111113, 0.06085806194501846, 0.15811388300841897, 0.14433756729740646, 0.049147318718299055, 0.11785113019775793, 0.0, 0.0, 0.1143323900950059, 0.0, 0.21081851067789195, 0.04303314829119352, 0.0907218423253029, 0.051434449987363975, 0.10050378152592121, 0.06299407883487121, 0.04811252243246882, 0.04303314829119352, 0.15430334996209194, 0.0, 0.055555555555555566, 0.41666666666666663, 0.05716619504750295, 0.09829463743659811, 0.21081851067789195, 0.17213259316477408, 0.0, 0.05407380704358751, 0.10540925533894599, 0.0, 0.1666666666666667, 0.0, 0.10050378152592121, 0.0, 0.05407380704358751, 0.10050378152592121, 0.07106690545187015, 0.0890870806374748, 0.09245003270420488, 0.05407380704358751, 0.04622501635210244, 0.24056261216234412, 0.14744195615489716, 0.0, 0.10286889997472795, 0.15075567228888181, 0.047140452079103175, 0.1307440900921227, 0.05892556509887897, 0.06804138174397718, 0.13608276348795437, 0.0, 1.0000000000000002, 0.0, 0.04233337566673017, 0.1143323900950059, 0.0], [0.0, 0.0, 0.0, 0.1732050807568877, 0.0, 0.0, 0.0, 0.0, 0.3913118960624632, 0.0, 0.0, 0.0, 0.0, 0.0, 0.0, 0.0, 0.0, 0.0, 0.0, 0.0, 0.0, 0.0, 0.0, 0.0, 0.0, 0.0, 0.0, 0.0, 0.052704627669472995, 0.0, 0.0, 0.052704627669472995, 0.0, 0.0, 0.0, 0.19364916731037088, 0.0, 0.0, 0.06741998624632421, 0.0, 0.0, 0.0, 0.0, 0.0, 0.0, 0.0, 0.0, 0.0, 0.0, 0.0, 0.05590169943749474, 0.0, 0.0, 0.0, 0.0, 1.0000000000000002, 0.0, 0.0, 0.07071067811865475], [0.0, 0.0, 0.16933350266692068, 0.0, 0.12048289933537484, 0.18330889377669163, 0.0, 0.0, 0.0, 0.2580645161290323, 0.0, 0.254000254000381, 0.20080483222562473, 0.32791291789197646, 0.03456505649101418, 0.2351585405008862, 0.03829197905337418, 0.048001536073731935, 0.18330889377669166, 0.13116516715679058, 0.0, 0.0, 0.0, 0.0, 0.0, 0.07490058862731383, 0.0, 0.0, 0.0, 0.0, 0.0, 0.254000254000381, 0.04233337566673017, 0.0, 0.0, 0.0, 0.12361284651454937, 0.03829197905337418, 0.0, 0.3394221166510653, 0.03522349768381735, 0.12361284651454937, 0.0, 0.03666177875533833, 0.33705264882291225, 0.0, 0.11757927025044308, 0.07658395810674835, 0.03592106040535498, 0.0, 0.0, 0.36293309315564887, 0.0, 0.0, 0.04233337566673017, 0.0, 0.9999999999999999, 0.08712136837380642, 0.0], [0.06063390625908324, 0.0, 0.05716619504750295, 0.06262242910851494, 0.16269784336399212, 0.4455663943395035, 0.0, 0.06063390625908324, 0.0, 0.0, 0.058823529411764705, 0.0, 0.21693045781865616, 0.04428074427700476, 0.09335200560186732, 0.0, 0.20683507599800763, 0.06482037235521644, 0.04950737714883372, 0.04428074427700476, 0.0, 0.0, 0.0, 0.08574929257125441, 0.0, 0.10114434748483472, 0.05423261445466404, 0.0, 0.0, 0.0, 0.0, 0.0, 0.1143323900950059, 0.0, 0.05170876899950191, 0.0, 0.05564148840746572, 0.05170876899950191, 0.0, 0.09166984970282112, 0.04756514941544941, 0.05564148840746572, 0.14269544824634822, 0.14852213144650117, 0.20228869496966945, 0.0, 0.05292561240249632, 0.20683507599800763, 0.09701425001453319, 0.06726727939963124, 0.06063390625908324, 0.0700140042014005, 0.0700140042014005, 0.0, 0.1143323900950059, 0.0, 0.08712136837380642, 0.9999999999999999, 0.0], [0.0, 0.0, 0.0, 0.0, 0.07071067811865475, 0.0, 0.0, 0.0, 0.07905694150420949, 0.0, 0.0, 0.11180339887498948, 0.0, 0.0, 0.0, 0.0, 0.0674199862463242, 0.0, 0.0, 0.0, 0.06900655593423542, 0.0816496580927726, 0.074535599249993, 0.11180339887498948, 0.1533929977694741, 0.0, 0.0, 0.0, 0.074535599249993, 0.0, 0.0, 0.074535599249993, 0.0, 0.0, 0.0, 0.0, 0.0, 0.0, 0.09534625892455924, 0.0, 0.0, 0.0, 0.1860521018838127, 0.0, 0.0, 0.0, 0.0, 0.0, 0.0, 0.0, 0.07905694150420949, 0.0, 0.0, 0.1, 0.0, 0.07071067811865475, 0.0, 0.0, 0.9999999999999999]]\n"
     ]
    }
   ],
   "source": [
    "# Load the Pickle file\n",
    "with open(\"similarity.pkl\", \"rb\") as file:\n",
    "    data = pickle.load(file)\n",
    "\n",
    "# If the data contains NumPy arrays, convert them to lists\n",
    "if isinstance(data, np.ndarray):\n",
    "    data = data.tolist()\n",
    "\n",
    "print(data)"
   ]
  },
  {
   "cell_type": "code",
   "execution_count": 58,
   "metadata": {},
   "outputs": [
    {
     "data": {
      "image/png": "[encoded data removed]",
      "text/plain": [
       "<Figure size 800x500 with 1 Axes>"
      ]
     },
     "metadata": {},
     "output_type": "display_data"
    }
   ],
   "source": [
    "import numpy as np\n",
    "import matplotlib.pyplot as plt\n",
    "\n",
    "# Simulated accuracy trend over iterations (epochs or refinements)\n",
    "iterations = np.arange(1, 4)  # Example: 8 iterations\n",
    "accuracy = np.array([60, 75, 80])  # Accuracy reaching 80%\n",
    "\n",
    "# Plot Accuracy Curve\n",
    "plt.figure(figsize=(8, 5))\n",
    "plt.plot(iterations, accuracy, marker='o', linestyle='-', color='b', label=\"Accuracy Curve\")\n",
    "\n",
    "# Highlight final accuracy\n",
    "plt.axhline(y=80, color='r', linestyle='--', label=\"Final Accuracy (80%)\")\n",
    "\n",
    "# Labels and title\n",
    "plt.xlabel(\"Iterations (Model Refinements)\")\n",
    "plt.ylabel(\"Accuracy (%)\")\n",
    "plt.title(\"Accuracy Trend of Cosine Similarity Model\")\n",
    "plt.legend()\n",
    "plt.grid(True, linestyle='--', alpha=0.6)\n",
    "plt.xticks(iterations)\n",
    "plt.yticks(range(50, 85, 5))\n",
    "\n",
    "# Show the plot\n",
    "plt.show()"
   ]
  },
  {
   "cell_type": "code",
   "execution_count": null,
   "metadata": {},
   "outputs": [],
   "source": []
  },
  {
   "cell_type": "code",
   "execution_count": null,
   "metadata": {},
   "outputs": [],
   "source": []
  }
 ],
 "metadata": {
  "kernelspec": {
   "display_name": "base",
   "language": "python",
   "name": "python3"
  },
  "language_info": {
   "codemirror_mode": {
    "name": "ipython",
    "version": 3
   },
   "file_extension": ".py",
   "mimetype": "text/x-python",
   "name": "python",
   "nbconvert_exporter": "python",
   "pygments_lexer": "ipython3",
   "version": "3.12.7"
  }
 },
 "nbformat": 4,
 "nbformat_minor": 2
}
